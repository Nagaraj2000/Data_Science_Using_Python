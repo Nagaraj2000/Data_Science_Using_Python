{
 "cells": [
  {
   "cell_type": "markdown",
   "metadata": {},
   "source": [
    "# Getting Started"
   ]
  },
  {
   "cell_type": "markdown",
   "metadata": {},
   "source": [
    "## 1. Variable Declaration"
   ]
  },
  {
   "cell_type": "code",
   "execution_count": 2,
   "metadata": {},
   "outputs": [],
   "source": [
    "letsLearnPython = \"yes\"\n",
    "lets_learn_python = 1"
   ]
  },
  {
   "cell_type": "code",
   "execution_count": 3,
   "metadata": {},
   "outputs": [
    {
     "data": {
      "text/plain": [
       "1"
      ]
     },
     "execution_count": 3,
     "metadata": {},
     "output_type": "execute_result"
    }
   ],
   "source": [
    "lets_learn_python"
   ]
  },
  {
   "cell_type": "code",
   "execution_count": 6,
   "metadata": {},
   "outputs": [
    {
     "data": {
      "text/plain": [
       "int"
      ]
     },
     "execution_count": 6,
     "metadata": {},
     "output_type": "execute_result"
    }
   ],
   "source": [
    "type(lets_learn_python)"
   ]
  },
  {
   "cell_type": "markdown",
   "metadata": {},
   "source": [
    "## 2. Basic Datatypes"
   ]
  },
  {
   "cell_type": "markdown",
   "metadata": {},
   "source": [
    "### List"
   ]
  },
  {
   "cell_type": "code",
   "execution_count": 7,
   "metadata": {},
   "outputs": [],
   "source": [
    "languages = [\"python\",\"R\",\"Scala\"]\n",
    "known = [1,1,0]"
   ]
  },
  {
   "cell_type": "code",
   "execution_count": 12,
   "metadata": {},
   "outputs": [],
   "source": [
    "a = list(range(1,21))\n",
    "b = [21,22]"
   ]
  },
  {
   "cell_type": "code",
   "execution_count": 30,
   "metadata": {},
   "outputs": [
    {
     "data": {
      "text/plain": [
       "[2, 4, 6, 8, 10, 12, 14, 16, 18, 20, 22, 24]"
      ]
     },
     "execution_count": 30,
     "metadata": {},
     "output_type": "execute_result"
    }
   ],
   "source": [
    "num = list(range(1,21))\n",
    "even_1 = [22,24]\n",
    "num_even = num[1:21:2]\n",
    "num_even.extend(even_1)\n",
    "num_even"
   ]
  },
  {
   "cell_type": "code",
   "execution_count": 14,
   "metadata": {},
   "outputs": [
    {
     "data": {
      "text/plain": [
       "['python', 'R', 'Scala']"
      ]
     },
     "execution_count": 14,
     "metadata": {},
     "output_type": "execute_result"
    }
   ],
   "source": [
    "languages[0:4]"
   ]
  },
  {
   "cell_type": "code",
   "execution_count": 7,
   "metadata": {},
   "outputs": [
    {
     "data": {
      "text/plain": [
       "['python', 'R']"
      ]
     },
     "execution_count": 7,
     "metadata": {},
     "output_type": "execute_result"
    }
   ],
   "source": [
    "languages[0:2]"
   ]
  },
  {
   "cell_type": "code",
   "execution_count": 12,
   "metadata": {},
   "outputs": [
    {
     "data": {
      "text/plain": [
       "['python', 'Scala']"
      ]
     },
     "execution_count": 12,
     "metadata": {},
     "output_type": "execute_result"
    }
   ],
   "source": [
    "languages[0:3:2]"
   ]
  },
  {
   "cell_type": "code",
   "execution_count": 21,
   "metadata": {},
   "outputs": [
    {
     "data": {
      "text/plain": [
       "[('python', 1), ('R', 1), ('Scala', 0)]"
      ]
     },
     "execution_count": 21,
     "metadata": {},
     "output_type": "execute_result"
    }
   ],
   "source": [
    "list(zip(languages,known))"
   ]
  },
  {
   "cell_type": "code",
   "execution_count": 20,
   "metadata": {},
   "outputs": [
    {
     "data": {
      "text/plain": [
       "{'R': 1, 'Scala': 0, 'python': 1}"
      ]
     },
     "execution_count": 20,
     "metadata": {},
     "output_type": "execute_result"
    }
   ],
   "source": [
    "dict(zip(languages,known))"
   ]
  },
  {
   "cell_type": "code",
   "execution_count": 17,
   "metadata": {},
   "outputs": [
    {
     "data": {
      "text/plain": [
       "1"
      ]
     },
     "execution_count": 17,
     "metadata": {},
     "output_type": "execute_result"
    }
   ],
   "source": [
    "languages_known = {'R': 1, 'Scala': 0, 'python': 1}\n",
    "languages_known[\"R\"]"
   ]
  },
  {
   "cell_type": "markdown",
   "metadata": {},
   "source": [
    "### Tuple"
   ]
  },
  {
   "cell_type": "code",
   "execution_count": 37,
   "metadata": {},
   "outputs": [],
   "source": [
    "languages = (\"python\",\"R\",\"Scala\")"
   ]
  },
  {
   "cell_type": "code",
   "execution_count": 38,
   "metadata": {},
   "outputs": [
    {
     "data": {
      "text/plain": [
       "tuple"
      ]
     },
     "execution_count": 38,
     "metadata": {},
     "output_type": "execute_result"
    }
   ],
   "source": [
    "type(languages)"
   ]
  },
  {
   "cell_type": "code",
   "execution_count": 39,
   "metadata": {},
   "outputs": [
    {
     "data": {
      "text/plain": [
       "('python', 'R', 'Scala')"
      ]
     },
     "execution_count": 39,
     "metadata": {},
     "output_type": "execute_result"
    }
   ],
   "source": [
    "languages"
   ]
  },
  {
   "cell_type": "code",
   "execution_count": null,
   "metadata": {},
   "outputs": [],
   "source": [
    "in"
   ]
  },
  {
   "cell_type": "markdown",
   "metadata": {},
   "source": [
    "### Dict"
   ]
  },
  {
   "cell_type": "code",
   "execution_count": 23,
   "metadata": {},
   "outputs": [],
   "source": [
    "languagesKnown = {\"python\":True,\"R\":True,\"scala\":False}"
   ]
  },
  {
   "cell_type": "code",
   "execution_count": 29,
   "metadata": {},
   "outputs": [
    {
     "name": "stdout",
     "output_type": "stream",
     "text": [
      "available\n"
     ]
    }
   ],
   "source": [
    "if \"java\" in languagesKnown.keys():\n",
    "    print(\"available\")\n",
    "    \n",
    "else:\n",
    "    languagesKnown[\"java\"] = False"
   ]
  },
  {
   "cell_type": "code",
   "execution_count": 42,
   "metadata": {},
   "outputs": [
    {
     "data": {
      "text/plain": [
       "False"
      ]
     },
     "execution_count": 42,
     "metadata": {},
     "output_type": "execute_result"
    }
   ],
   "source": [
    "\"java\" in languages"
   ]
  },
  {
   "cell_type": "code",
   "execution_count": 46,
   "metadata": {},
   "outputs": [
    {
     "data": {
      "text/plain": [
       "True"
      ]
     },
     "execution_count": 46,
     "metadata": {},
     "output_type": "execute_result"
    }
   ],
   "source": [
    "True in languages_known.values()\n"
   ]
  },
  {
   "cell_type": "markdown",
   "metadata": {},
   "source": [
    "## 3.Control Statements"
   ]
  },
  {
   "cell_type": "code",
   "execution_count": 41,
   "metadata": {},
   "outputs": [
    {
     "name": "stdout",
     "output_type": "stream",
     "text": [
      "Probably I dont\n"
     ]
    }
   ],
   "source": [
    "a = 2\n",
    "if a==1:\n",
    "    print (\"I know to count\")\n",
    "else:\n",
    "    print (\"Probably I dont\")"
   ]
  },
  {
   "cell_type": "code",
   "execution_count": 42,
   "metadata": {},
   "outputs": [
    {
     "name": "stdout",
     "output_type": "stream",
     "text": [
      "I Finally Know To Use 'In' Operator\n"
     ]
    }
   ],
   "source": [
    "if \"python\" in languages:\n",
    "    print (\"I Finally Know To Use 'In' Operator\")\n",
    "    \n",
    "else:\n",
    "    print (\"Lets Learn Now\")"
   ]
  },
  {
   "cell_type": "code",
   "execution_count": 52,
   "metadata": {},
   "outputs": [
    {
     "data": {
      "text/plain": [
       "'1'"
      ]
     },
     "execution_count": 52,
     "metadata": {},
     "output_type": "execute_result"
    }
   ],
   "source": [
    "a = 1\n",
    "str(a)"
   ]
  },
  {
   "cell_type": "code",
   "execution_count": null,
   "metadata": {},
   "outputs": [],
   "source": [
    "a = [1,2,3,4]"
   ]
  },
  {
   "cell_type": "markdown",
   "metadata": {},
   "source": [
    "## 4.Loops"
   ]
  },
  {
   "cell_type": "code",
   "execution_count": 32,
   "metadata": {},
   "outputs": [
    {
     "name": "stdout",
     "output_type": "stream",
     "text": [
      "1 1 1\n",
      "2 4 8\n",
      "3 9 27\n",
      "4 16 64\n"
     ]
    }
   ],
   "source": [
    "numList = [1,2,3,4]\n",
    "for num in numList:\n",
    "    print (num,num*num,num*num*num)"
   ]
  },
  {
   "cell_type": "code",
   "execution_count": 34,
   "metadata": {},
   "outputs": [
    {
     "name": "stdout",
     "output_type": "stream",
     "text": [
      "The Squared value of  1 : 1\n",
      "The Squared value of  2 : 4\n",
      "The Squared value of  3 : 9\n",
      "The Squared value of  4 : 16\n"
     ]
    }
   ],
   "source": [
    "## Print the square of numbers in list\n",
    "numList = [1,2,3,4]\n",
    "for num in numList:\n",
    "    print (\"The Squared value of \",num ,\":\", num*num)"
   ]
  },
  {
   "cell_type": "markdown",
   "metadata": {},
   "source": [
    "## 5.Functions"
   ]
  },
  {
   "cell_type": "code",
   "execution_count": 60,
   "metadata": {},
   "outputs": [
    {
     "data": {
      "text/plain": [
       "7"
      ]
     },
     "execution_count": 60,
     "metadata": {},
     "output_type": "execute_result"
    }
   ],
   "source": [
    "## Sum Of Two Numbers\n",
    "def sum_two_numbers(a, b):\n",
    "    return a + b\n",
    "\n",
    "sum_two_numbers(3,4)"
   ]
  },
  {
   "cell_type": "code",
   "execution_count": 38,
   "metadata": {},
   "outputs": [
    {
     "data": {
      "text/plain": [
       "[1, 4, 9, 16]"
      ]
     },
     "execution_count": 38,
     "metadata": {},
     "output_type": "execute_result"
    }
   ],
   "source": [
    "a = [1,2,3,4]\n",
    "b = []\n",
    "for num in a:\n",
    "    numSq = num*num\n",
    "    b.append(numSq)\n",
    "b"
   ]
  },
  {
   "cell_type": "code",
   "execution_count": 39,
   "metadata": {},
   "outputs": [
    {
     "data": {
      "text/plain": [
       "[4, 16]"
      ]
     },
     "execution_count": 39,
     "metadata": {},
     "output_type": "execute_result"
    }
   ],
   "source": [
    "[num*num for num in a if num%2==0] "
   ]
  },
  {
   "cell_type": "markdown",
   "metadata": {},
   "source": [
    "## 6.Higher Level Function"
   ]
  },
  {
   "cell_type": "markdown",
   "metadata": {},
   "source": [
    "### List Comprehensions"
   ]
  },
  {
   "cell_type": "code",
   "execution_count": 64,
   "metadata": {},
   "outputs": [
    {
     "name": "stdout",
     "output_type": "stream",
     "text": [
      "Initial arr:  [1, 2, 3, 4, 5, 6, 7, 8, 9, 10, 11, 12, 13, 14, 15, 16, 17, 18, 19, 20, 21, 22, 23, 24, 25, 26, 27, 28, 29, 30, 31, 32, 33, 34, 35, 36, 37, 38, 39, 40, 41, 42, 43, 44, 45, 46, 47, 48, 49, 50, 51, 52, 53, 54, 55, 56, 57, 58, 59, 60, 61, 62, 63, 64, 65, 66, 67, 68, 69, 70, 71, 72, 73, 74, 75, 76, 77, 78, 79, 80, 81, 82, 83, 84, 85, 86, 87, 88, 89, 90, 91, 92, 93, 94, 95, 96, 97, 98, 99, 100] \n",
      "\n",
      "div_by_7:  [7, 14, 21, 28, 35, 42, 49, 56, 63, 70, 77, 84, 91, 98] \n",
      "\n"
     ]
    }
   ],
   "source": [
    "\n",
    "# Powerful mechanism to do list manipulations\n",
    "\n",
    "# [ expression for item in list if conditional ]\n",
    "\n",
    "# List Comprehension example : \n",
    "# Return all elements of a list that are divisible by another number\n",
    "\n",
    "arr = list(range(1, 101))\n",
    "print (\"Initial arr: \", arr,\"\\n\")\n",
    "\n",
    "# Code To Find Numbers Divisible By 7 (Normal Way) \n",
    "\n",
    "div_by_7 = []\n",
    "for a in arr:\n",
    "    if (a % 7 == 0):\n",
    "        div_by_7.append(a)\n",
    "print (\"div_by_7: \", div_by_7, \"\\n\")\n",
    "\n"
   ]
  },
  {
   "cell_type": "code",
   "execution_count": 67,
   "metadata": {},
   "outputs": [
    {
     "name": "stdout",
     "output_type": "stream",
     "text": [
      "divisible_by_7:  {7: 49, 14: 196, 21: 441, 28: 784, 35: 1225, 42: 1764, 49: 2401, 56: 3136, 63: 3969, 70: 4900, 77: 5929, 84: 7056, 91: 8281, 98: 9604} \n",
      "\n",
      "False\n"
     ]
    }
   ],
   "source": [
    "# Using List Comprehension\n",
    "\n",
    "divisible_by_7 = [c for c in list(range(1,101)) if c % 7 == 0]\n",
    "\n",
    "print (\"divisible_by_7: \", divisible_by_7, \"\\n\")\n",
    "print (divisible_by_7 == div_by_7)"
   ]
  },
  {
   "cell_type": "markdown",
   "metadata": {},
   "source": [
    "### Useful Links On List Comprehensions"
   ]
  },
  {
   "cell_type": "code",
   "execution_count": 88,
   "metadata": {},
   "outputs": [],
   "source": [
    "# 1) http://treyhunner.com/2015/12/python-list-comprehensions-now-in-color/\n",
    "# 2) http://www.secnetix.de/olli/Python/list_comprehensions.hawk\n",
    "# 3) http://www.python-course.eu/list_comprehension.php"
   ]
  },
  {
   "cell_type": "code",
   "execution_count": 69,
   "metadata": {},
   "outputs": [
    {
     "data": {
      "text/plain": [
       "15"
      ]
     },
     "execution_count": 69,
     "metadata": {},
     "output_type": "execute_result"
    }
   ],
   "source": [
    "def sum_of_num(a,b):\n",
    "    c=a+b\n",
    "    return c\n",
    "\n",
    "f = lambda a,b: a+b\n",
    "f(10,5)"
   ]
  },
  {
   "cell_type": "code",
   "execution_count": 72,
   "metadata": {},
   "outputs": [
    {
     "data": {
      "text/plain": [
       "[2, 4]"
      ]
     },
     "execution_count": 72,
     "metadata": {},
     "output_type": "execute_result"
    }
   ],
   "source": [
    "a = [1,2,3,4]\n",
    "\n",
    "list(filter(lambda num: num%2==0,a))"
   ]
  },
  {
   "cell_type": "markdown",
   "metadata": {},
   "source": [
    "### Lambda Functions"
   ]
  },
  {
   "cell_type": "code",
   "execution_count": 89,
   "metadata": {},
   "outputs": [
    {
     "name": "stdout",
     "output_type": "stream",
     "text": [
      "3\n"
     ]
    }
   ],
   "source": [
    "f = lambda x,y: x + y\n",
    "print (f(1, 2))"
   ]
  },
  {
   "cell_type": "markdown",
   "metadata": {},
   "source": [
    "### Map Function"
   ]
  },
  {
   "cell_type": "code",
   "execution_count": 2,
   "metadata": {},
   "outputs": [
    {
     "name": "stdout",
     "output_type": "stream",
     "text": [
      "[1, 4, 9, 16, 25]\n"
     ]
    }
   ],
   "source": [
    "arr = [1, 2, 3, 4, 5]\n",
    "squares = map(lambda x: x**2, arr)\n",
    "print (list(squares))"
   ]
  },
  {
   "cell_type": "markdown",
   "metadata": {},
   "source": [
    "### Reduce Function"
   ]
  },
  {
   "cell_type": "code",
   "execution_count": 3,
   "metadata": {},
   "outputs": [
    {
     "name": "stdout",
     "output_type": "stream",
     "text": [
      "15\n"
     ]
    }
   ],
   "source": [
    "from functools import reduce\n",
    "sum1 = reduce(lambda x, y: x + y, arr)\n",
    "print (sum1)"
   ]
  },
  {
   "cell_type": "code",
   "execution_count": 4,
   "metadata": {},
   "outputs": [
    {
     "data": {
      "text/plain": [
       "6"
      ]
     },
     "execution_count": 4,
     "metadata": {},
     "output_type": "execute_result"
    }
   ],
   "source": [
    "a = [1,2,3]\n",
    "sum(a)"
   ]
  },
  {
   "cell_type": "code",
   "execution_count": 5,
   "metadata": {},
   "outputs": [
    {
     "data": {
      "text/plain": [
       "102"
      ]
     },
     "execution_count": 5,
     "metadata": {},
     "output_type": "execute_result"
    }
   ],
   "source": [
    "## Find The Maximum From \n",
    "arr1 = [47,11,42,102,13]\n",
    "f= lambda a,b: a if (a > b) else b\n",
    "reduce(f, arr1)"
   ]
  },
  {
   "cell_type": "markdown",
   "metadata": {},
   "source": [
    "### Filter Function"
   ]
  },
  {
   "cell_type": "code",
   "execution_count": 19,
   "metadata": {},
   "outputs": [
    {
     "name": "stdout",
     "output_type": "stream",
     "text": [
      "even_fib:  [0, 2, 8, 34]\n"
     ]
    }
   ],
   "source": [
    "fib = [0, 1, 1, 2, 3, 5, 8, 13, 21, 34, 55]\n",
    "#  Print all even numbers in fib :\n",
    "even_fib = filter(lambda x: x % 2 == 0, fib)\n",
    "print (\"even_fib: \", list(even_fib))"
   ]
  },
  {
   "cell_type": "code",
   "execution_count": 20,
   "metadata": {},
   "outputs": [
    {
     "name": "stdout",
     "output_type": "stream",
     "text": [
      "even_fib:  [0, 2, 8, 34]\n"
     ]
    }
   ],
   "source": [
    "# Filter : offers an elegant way to filter out all the elements of a list, for which the function function returns True\n",
    "fib = [0, 1, 1, 2, 3, 5, 8, 13, 21, 34, 55]\n",
    "#  Print all even numbers in fib :\n",
    "even_fib = filter(lambda x: x % 2 == 0, fib)\n",
    "print (\"even_fib: \", list(even_fib))"
   ]
  },
  {
   "cell_type": "markdown",
   "metadata": {},
   "source": [
    "### Solution To Exercise"
   ]
  },
  {
   "cell_type": "code",
   "execution_count": 14,
   "metadata": {},
   "outputs": [
    {
     "name": "stdout",
     "output_type": "stream",
     "text": [
      "a:  [3, 6, 9, 12, 15, 18, 21, 24, 27, 30, 33, 36, 39, 42, 45, 48, 51, 54, 57, 60, 63, 66, 69, 72, 75, 78, 81, 84, 87, 90, 93, 96, 99, 102, 105, 108, 111, 114, 117, 120, 123, 126, 129, 132, 135, 138, 141, 144, 147, 150, 153, 156, 159, 162, 165, 168, 171, 174, 177, 180, 183, 186, 189, 192, 195, 198, 201, 204, 207, 210, 213, 216, 219, 222, 225, 228, 231, 234, 237, 240, 243, 246, 249, 252, 255, 258, 261, 264, 267, 270, 273, 276, 279, 282, 285, 288, 291, 294, 297] \n",
      "\n",
      "b:  [5, 10, 15, 20, 25, 30, 35, 40, 45, 50, 55, 60, 65, 70, 75, 80, 85, 90, 95, 100, 105, 110, 115, 120, 125, 130, 135, 140, 145, 150, 155, 160, 165, 170, 175, 180, 185, 190, 195, 200, 205, 210, 215, 220, 225, 230, 235, 240, 245, 250, 255, 260, 265, 270, 275, 280, 285, 290, 295, 300, 305, 310, 315, 320, 325, 330, 335, 340, 345, 350, 355, 360, 365, 370, 375, 380, 385, 390, 395, 400, 405, 410, 415, 420, 425, 430, 435, 440, 445, 450, 455, 460, 465, 470, 475, 480, 485, 490, 495] \n",
      "\n",
      "common:  [15, 30, 45, 60, 75, 90, 105, 120, 135, 150, 165, 180, 195, 210, 225, 240, 255, 270, 285] \n",
      "\n",
      "commonList:  [15, 30, 45, 60, 75, 90, 105, 120, 135, 150, 165, 180, 195, 210, 225, 240, 255, 270, 285] \n",
      "\n",
      "True\n"
     ]
    }
   ],
   "source": [
    "\n",
    "\n",
    "a = list(map(lambda x: x * 3, range(1, 100))) # Create multiples of 3\n",
    "b = list(map(lambda x: x * 5, range(1, 100))) # Create multiples of 5\n",
    "print (\"a: \", a, \"\\n\")\n",
    "print (\"b: \", b, \"\\n\")\n",
    "\n",
    "# Normal way :\n",
    "\n",
    "common = []\n",
    "for elem in a:\n",
    "    if elem in b:\n",
    "        common.append(elem)\n",
    "print (\"common: \", common, \"\\n\")\n",
    "\n",
    "# Using List Comprehensions: \n",
    "commonList = [c for c in a if c in b]\n",
    "print (\"commonList: \", commonList, \"\\n\")\n",
    "print (common == commonList)"
   ]
  },
  {
   "cell_type": "markdown",
   "metadata": {},
   "source": [
    "### Useful Links On Python Higher Level Functions"
   ]
  },
  {
   "cell_type": "code",
   "execution_count": 22,
   "metadata": {
    "collapsed": true
   },
   "outputs": [],
   "source": [
    "# 1) http://book.pythontips.com/en/latest/map_filter.html\n",
    "# 2) http://www.python-course.eu/lambda.php\n",
    "# 3) http://iamit.in/blog/Higher-order-functions-in-Python-sorted-map-reduce-filter/"
   ]
  },
  {
   "cell_type": "markdown",
   "metadata": {},
   "source": [
    "## 7.Date Function"
   ]
  },
  {
   "cell_type": "code",
   "execution_count": 76,
   "metadata": {},
   "outputs": [
    {
     "name": "stdout",
     "output_type": "stream",
     "text": [
      "2\n",
      "2012-09-20\n",
      "<class 'str'>\n",
      "<class 'datetime.datetime'>\n"
     ]
    }
   ],
   "source": [
    "from datetime import datetime\n",
    "a = datetime(2012, 3, 1)\n",
    "b = datetime(2012, 3, 3)\n",
    "c = (b - a)\n",
    "print (c.days)\n",
    "\n",
    "text = '2012-09-20'\n",
    "text1 = \"2012-09-22\"\n",
    "y = datetime.strptime(text, '%Y-%m-%d')\n",
    "print (y.date())\n",
    "print(type(text))\n",
    "print(type(y))"
   ]
  },
  {
   "cell_type": "code",
   "execution_count": null,
   "metadata": {},
   "outputs": [],
   "source": [
    "text1 = \"December 22, 2014\""
   ]
  },
  {
   "cell_type": "markdown",
   "metadata": {},
   "source": [
    "### Convert The Following String To Datetime Object"
   ]
  },
  {
   "cell_type": "code",
   "execution_count": 24,
   "metadata": {},
   "outputs": [
    {
     "name": "stdout",
     "output_type": "stream",
     "text": [
      "2014-12-22\n"
     ]
    }
   ],
   "source": [
    "text1 = \"December 22, 2014\"\n",
    "y = datetime.strptime(text1, '%B %d, %Y')\n",
    "print (y.date())"
   ]
  },
  {
   "cell_type": "markdown",
   "metadata": {},
   "source": [
    "### Useful Links On Datetime "
   ]
  },
  {
   "cell_type": "code",
   "execution_count": 25,
   "metadata": {
    "collapsed": true
   },
   "outputs": [],
   "source": [
    "\n",
    "# 1) http://pleac.sourceforge.net/pleac_python/datesandtimes.html\n",
    "# 2) http://effbot.org/librarybook/datetime.htm\n",
    "# 3) http://strftime.org/"
   ]
  },
  {
   "cell_type": "markdown",
   "metadata": {},
   "source": [
    "# Data Manipulation"
   ]
  },
  {
   "cell_type": "markdown",
   "metadata": {},
   "source": [
    "### Importing Libraries"
   ]
  },
  {
   "cell_type": "code",
   "execution_count": 1,
   "metadata": {},
   "outputs": [],
   "source": [
    "import pandas"
   ]
  },
  {
   "cell_type": "markdown",
   "metadata": {},
   "source": [
    "### Reading In CSV File"
   ]
  },
  {
   "cell_type": "code",
   "execution_count": 3,
   "metadata": {},
   "outputs": [],
   "source": [
    "data = pandas.read_csv(\"weather_year.csv\",)"
   ]
  },
  {
   "cell_type": "code",
   "execution_count": 4,
   "metadata": {},
   "outputs": [
    {
     "data": {
      "text/plain": [
       "4"
      ]
     },
     "execution_count": 4,
     "metadata": {},
     "output_type": "execute_result"
    }
   ],
   "source": [
    "a = [1,2,3,4]\n",
    "len(a)"
   ]
  },
  {
   "cell_type": "code",
   "execution_count": 5,
   "metadata": {},
   "outputs": [
    {
     "data": {
      "text/plain": [
       "366"
      ]
     },
     "execution_count": 5,
     "metadata": {},
     "output_type": "execute_result"
    }
   ],
   "source": [
    "len(data)"
   ]
  },
  {
   "cell_type": "markdown",
   "metadata": {},
   "source": [
    "### Getting No Of Lines"
   ]
  },
  {
   "cell_type": "code",
   "execution_count": 6,
   "metadata": {},
   "outputs": [
    {
     "name": "stdout",
     "output_type": "stream",
     "text": [
      "No of lines:  366\n"
     ]
    }
   ],
   "source": [
    "print (\"No of lines: \",len(data))\n"
   ]
  },
  {
   "cell_type": "code",
   "execution_count": 8,
   "metadata": {},
   "outputs": [
    {
     "data": {
      "text/plain": [
       "(366, 23)"
      ]
     },
     "execution_count": 8,
     "metadata": {},
     "output_type": "execute_result"
    }
   ],
   "source": [
    "data.shape"
   ]
  },
  {
   "cell_type": "markdown",
   "metadata": {},
   "source": [
    "### Getting Column Names"
   ]
  },
  {
   "cell_type": "code",
   "execution_count": 28,
   "metadata": {},
   "outputs": [
    {
     "name": "stdout",
     "output_type": "stream",
     "text": [
      "Columns List:  ['EDT', 'Max TemperatureF', 'Mean TemperatureF', 'Min TemperatureF', 'Max Dew PointF', 'MeanDew PointF', 'Min DewpointF', 'Max Humidity', ' Mean Humidity', ' Min Humidity', ' Max Sea Level PressureIn', ' Mean Sea Level PressureIn', ' Min Sea Level PressureIn', ' Max VisibilityMiles', ' Mean VisibilityMiles', ' Min VisibilityMiles', ' Max Wind SpeedMPH', ' Mean Wind SpeedMPH', ' Max Gust SpeedMPH', 'PrecipitationIn', ' CloudCover', ' Events', ' WindDirDegrees']\n"
     ]
    }
   ],
   "source": [
    "print (\"Columns List: \",list(data.columns))"
   ]
  },
  {
   "cell_type": "markdown",
   "metadata": {},
   "source": [
    "### Get The Feel Of Data"
   ]
  },
  {
   "cell_type": "code",
   "execution_count": 10,
   "metadata": {},
   "outputs": [
    {
     "data": {
      "text/html": [
       "<div>\n",
       "<style scoped>\n",
       "    .dataframe tbody tr th:only-of-type {\n",
       "        vertical-align: middle;\n",
       "    }\n",
       "\n",
       "    .dataframe tbody tr th {\n",
       "        vertical-align: top;\n",
       "    }\n",
       "\n",
       "    .dataframe thead th {\n",
       "        text-align: right;\n",
       "    }\n",
       "</style>\n",
       "<table border=\"1\" class=\"dataframe\">\n",
       "  <thead>\n",
       "    <tr style=\"text-align: right;\">\n",
       "      <th></th>\n",
       "      <th>EDT</th>\n",
       "      <th>Max TemperatureF</th>\n",
       "      <th>Mean TemperatureF</th>\n",
       "      <th>Min TemperatureF</th>\n",
       "      <th>Max Dew PointF</th>\n",
       "      <th>MeanDew PointF</th>\n",
       "      <th>Min DewpointF</th>\n",
       "      <th>Max Humidity</th>\n",
       "      <th>Mean Humidity</th>\n",
       "      <th>Min Humidity</th>\n",
       "      <th>...</th>\n",
       "      <th>Max VisibilityMiles</th>\n",
       "      <th>Mean VisibilityMiles</th>\n",
       "      <th>Min VisibilityMiles</th>\n",
       "      <th>Max Wind SpeedMPH</th>\n",
       "      <th>Mean Wind SpeedMPH</th>\n",
       "      <th>Max Gust SpeedMPH</th>\n",
       "      <th>PrecipitationIn</th>\n",
       "      <th>CloudCover</th>\n",
       "      <th>Events</th>\n",
       "      <th>WindDirDegrees</th>\n",
       "    </tr>\n",
       "  </thead>\n",
       "  <tbody>\n",
       "    <tr>\n",
       "      <th>0</th>\n",
       "      <td>2012-3-10</td>\n",
       "      <td>56</td>\n",
       "      <td>40</td>\n",
       "      <td>24</td>\n",
       "      <td>24</td>\n",
       "      <td>20</td>\n",
       "      <td>16</td>\n",
       "      <td>74</td>\n",
       "      <td>50</td>\n",
       "      <td>26</td>\n",
       "      <td>...</td>\n",
       "      <td>10</td>\n",
       "      <td>10</td>\n",
       "      <td>10</td>\n",
       "      <td>13</td>\n",
       "      <td>6</td>\n",
       "      <td>17.0</td>\n",
       "      <td>0.00</td>\n",
       "      <td>0</td>\n",
       "      <td>NaN</td>\n",
       "      <td>138</td>\n",
       "    </tr>\n",
       "    <tr>\n",
       "      <th>1</th>\n",
       "      <td>2012-3-11</td>\n",
       "      <td>67</td>\n",
       "      <td>49</td>\n",
       "      <td>30</td>\n",
       "      <td>43</td>\n",
       "      <td>31</td>\n",
       "      <td>24</td>\n",
       "      <td>78</td>\n",
       "      <td>53</td>\n",
       "      <td>28</td>\n",
       "      <td>...</td>\n",
       "      <td>10</td>\n",
       "      <td>10</td>\n",
       "      <td>10</td>\n",
       "      <td>22</td>\n",
       "      <td>7</td>\n",
       "      <td>32.0</td>\n",
       "      <td>T</td>\n",
       "      <td>1</td>\n",
       "      <td>Rain</td>\n",
       "      <td>163</td>\n",
       "    </tr>\n",
       "    <tr>\n",
       "      <th>2</th>\n",
       "      <td>2012-3-12</td>\n",
       "      <td>71</td>\n",
       "      <td>62</td>\n",
       "      <td>53</td>\n",
       "      <td>59</td>\n",
       "      <td>55</td>\n",
       "      <td>43</td>\n",
       "      <td>90</td>\n",
       "      <td>76</td>\n",
       "      <td>61</td>\n",
       "      <td>...</td>\n",
       "      <td>10</td>\n",
       "      <td>10</td>\n",
       "      <td>6</td>\n",
       "      <td>24</td>\n",
       "      <td>14</td>\n",
       "      <td>36.0</td>\n",
       "      <td>0.03</td>\n",
       "      <td>6</td>\n",
       "      <td>Rain</td>\n",
       "      <td>190</td>\n",
       "    </tr>\n",
       "    <tr>\n",
       "      <th>3</th>\n",
       "      <td>2012-3-13</td>\n",
       "      <td>76</td>\n",
       "      <td>63</td>\n",
       "      <td>50</td>\n",
       "      <td>57</td>\n",
       "      <td>53</td>\n",
       "      <td>47</td>\n",
       "      <td>93</td>\n",
       "      <td>66</td>\n",
       "      <td>38</td>\n",
       "      <td>...</td>\n",
       "      <td>10</td>\n",
       "      <td>10</td>\n",
       "      <td>4</td>\n",
       "      <td>16</td>\n",
       "      <td>5</td>\n",
       "      <td>24.0</td>\n",
       "      <td>0.00</td>\n",
       "      <td>0</td>\n",
       "      <td>NaN</td>\n",
       "      <td>242</td>\n",
       "    </tr>\n",
       "    <tr>\n",
       "      <th>4</th>\n",
       "      <td>2012-3-14</td>\n",
       "      <td>80</td>\n",
       "      <td>62</td>\n",
       "      <td>44</td>\n",
       "      <td>58</td>\n",
       "      <td>52</td>\n",
       "      <td>43</td>\n",
       "      <td>93</td>\n",
       "      <td>68</td>\n",
       "      <td>42</td>\n",
       "      <td>...</td>\n",
       "      <td>10</td>\n",
       "      <td>10</td>\n",
       "      <td>10</td>\n",
       "      <td>16</td>\n",
       "      <td>6</td>\n",
       "      <td>22.0</td>\n",
       "      <td>0.00</td>\n",
       "      <td>0</td>\n",
       "      <td>NaN</td>\n",
       "      <td>202</td>\n",
       "    </tr>\n",
       "  </tbody>\n",
       "</table>\n",
       "<p>5 rows × 23 columns</p>\n",
       "</div>"
      ],
      "text/plain": [
       "         EDT  Max TemperatureF  Mean TemperatureF  Min TemperatureF  \\\n",
       "0  2012-3-10                56                 40                24   \n",
       "1  2012-3-11                67                 49                30   \n",
       "2  2012-3-12                71                 62                53   \n",
       "3  2012-3-13                76                 63                50   \n",
       "4  2012-3-14                80                 62                44   \n",
       "\n",
       "   Max Dew PointF  MeanDew PointF  Min DewpointF  Max Humidity  \\\n",
       "0              24              20             16            74   \n",
       "1              43              31             24            78   \n",
       "2              59              55             43            90   \n",
       "3              57              53             47            93   \n",
       "4              58              52             43            93   \n",
       "\n",
       "    Mean Humidity   Min Humidity       ...         Max VisibilityMiles  \\\n",
       "0              50             26       ...                          10   \n",
       "1              53             28       ...                          10   \n",
       "2              76             61       ...                          10   \n",
       "3              66             38       ...                          10   \n",
       "4              68             42       ...                          10   \n",
       "\n",
       "    Mean VisibilityMiles   Min VisibilityMiles   Max Wind SpeedMPH  \\\n",
       "0                     10                    10                  13   \n",
       "1                     10                    10                  22   \n",
       "2                     10                     6                  24   \n",
       "3                     10                     4                  16   \n",
       "4                     10                    10                  16   \n",
       "\n",
       "    Mean Wind SpeedMPH   Max Gust SpeedMPH  PrecipitationIn   CloudCover  \\\n",
       "0                    6                17.0             0.00            0   \n",
       "1                    7                32.0                T            1   \n",
       "2                   14                36.0             0.03            6   \n",
       "3                    5                24.0             0.00            0   \n",
       "4                    6                22.0             0.00            0   \n",
       "\n",
       "    Events  WindDirDegrees  \n",
       "0      NaN             138  \n",
       "1     Rain             163  \n",
       "2     Rain             190  \n",
       "3      NaN             242  \n",
       "4      NaN             202  \n",
       "\n",
       "[5 rows x 23 columns]"
      ]
     },
     "execution_count": 10,
     "metadata": {},
     "output_type": "execute_result"
    }
   ],
   "source": [
    "data.head()"
   ]
  },
  {
   "cell_type": "markdown",
   "metadata": {},
   "source": [
    "### Summary Stats"
   ]
  },
  {
   "cell_type": "code",
   "execution_count": 30,
   "metadata": {},
   "outputs": [
    {
     "data": {
      "text/html": [
       "<div>\n",
       "<style scoped>\n",
       "    .dataframe tbody tr th:only-of-type {\n",
       "        vertical-align: middle;\n",
       "    }\n",
       "\n",
       "    .dataframe tbody tr th {\n",
       "        vertical-align: top;\n",
       "    }\n",
       "\n",
       "    .dataframe thead th {\n",
       "        text-align: right;\n",
       "    }\n",
       "</style>\n",
       "<table border=\"1\" class=\"dataframe\">\n",
       "  <thead>\n",
       "    <tr style=\"text-align: right;\">\n",
       "      <th></th>\n",
       "      <th>Max TemperatureF</th>\n",
       "      <th>Mean TemperatureF</th>\n",
       "      <th>Min TemperatureF</th>\n",
       "      <th>Max Dew PointF</th>\n",
       "      <th>MeanDew PointF</th>\n",
       "      <th>Min DewpointF</th>\n",
       "      <th>Max Humidity</th>\n",
       "      <th>Mean Humidity</th>\n",
       "      <th>Min Humidity</th>\n",
       "      <th>Max Sea Level PressureIn</th>\n",
       "      <th>Mean Sea Level PressureIn</th>\n",
       "      <th>Min Sea Level PressureIn</th>\n",
       "      <th>Max VisibilityMiles</th>\n",
       "      <th>Mean VisibilityMiles</th>\n",
       "      <th>Min VisibilityMiles</th>\n",
       "      <th>Max Wind SpeedMPH</th>\n",
       "      <th>Mean Wind SpeedMPH</th>\n",
       "      <th>Max Gust SpeedMPH</th>\n",
       "      <th>CloudCover</th>\n",
       "      <th>WindDirDegrees</th>\n",
       "    </tr>\n",
       "  </thead>\n",
       "  <tbody>\n",
       "    <tr>\n",
       "      <th>count</th>\n",
       "      <td>366.000000</td>\n",
       "      <td>366.000000</td>\n",
       "      <td>366.000000</td>\n",
       "      <td>366.000000</td>\n",
       "      <td>366.000000</td>\n",
       "      <td>366.000000</td>\n",
       "      <td>366.000000</td>\n",
       "      <td>366.000000</td>\n",
       "      <td>366.000000</td>\n",
       "      <td>366.000000</td>\n",
       "      <td>366.000000</td>\n",
       "      <td>366.000000</td>\n",
       "      <td>366.000000</td>\n",
       "      <td>366.000000</td>\n",
       "      <td>366.000000</td>\n",
       "      <td>366.000000</td>\n",
       "      <td>366.000000</td>\n",
       "      <td>365.000000</td>\n",
       "      <td>366.000000</td>\n",
       "      <td>366.000000</td>\n",
       "    </tr>\n",
       "    <tr>\n",
       "      <th>mean</th>\n",
       "      <td>66.803279</td>\n",
       "      <td>55.683060</td>\n",
       "      <td>44.101093</td>\n",
       "      <td>49.549180</td>\n",
       "      <td>44.057377</td>\n",
       "      <td>37.980874</td>\n",
       "      <td>90.027322</td>\n",
       "      <td>67.860656</td>\n",
       "      <td>45.193989</td>\n",
       "      <td>30.108907</td>\n",
       "      <td>30.022705</td>\n",
       "      <td>29.936831</td>\n",
       "      <td>9.994536</td>\n",
       "      <td>8.732240</td>\n",
       "      <td>5.797814</td>\n",
       "      <td>16.418033</td>\n",
       "      <td>6.057377</td>\n",
       "      <td>22.764384</td>\n",
       "      <td>2.885246</td>\n",
       "      <td>189.704918</td>\n",
       "    </tr>\n",
       "    <tr>\n",
       "      <th>std</th>\n",
       "      <td>20.361247</td>\n",
       "      <td>18.436506</td>\n",
       "      <td>17.301141</td>\n",
       "      <td>16.397178</td>\n",
       "      <td>16.829996</td>\n",
       "      <td>17.479449</td>\n",
       "      <td>9.108438</td>\n",
       "      <td>9.945591</td>\n",
       "      <td>15.360261</td>\n",
       "      <td>0.172189</td>\n",
       "      <td>0.174112</td>\n",
       "      <td>0.182476</td>\n",
       "      <td>0.073821</td>\n",
       "      <td>1.875406</td>\n",
       "      <td>3.792219</td>\n",
       "      <td>5.564329</td>\n",
       "      <td>3.200940</td>\n",
       "      <td>8.131092</td>\n",
       "      <td>2.707261</td>\n",
       "      <td>94.045080</td>\n",
       "    </tr>\n",
       "    <tr>\n",
       "      <th>min</th>\n",
       "      <td>16.000000</td>\n",
       "      <td>11.000000</td>\n",
       "      <td>1.000000</td>\n",
       "      <td>0.000000</td>\n",
       "      <td>-3.000000</td>\n",
       "      <td>-5.000000</td>\n",
       "      <td>54.000000</td>\n",
       "      <td>37.000000</td>\n",
       "      <td>15.000000</td>\n",
       "      <td>29.640000</td>\n",
       "      <td>29.420000</td>\n",
       "      <td>29.230000</td>\n",
       "      <td>9.000000</td>\n",
       "      <td>2.000000</td>\n",
       "      <td>0.000000</td>\n",
       "      <td>6.000000</td>\n",
       "      <td>0.000000</td>\n",
       "      <td>7.000000</td>\n",
       "      <td>0.000000</td>\n",
       "      <td>1.000000</td>\n",
       "    </tr>\n",
       "    <tr>\n",
       "      <th>25%</th>\n",
       "      <td>51.000000</td>\n",
       "      <td>41.000000</td>\n",
       "      <td>30.000000</td>\n",
       "      <td>36.000000</td>\n",
       "      <td>30.000000</td>\n",
       "      <td>24.000000</td>\n",
       "      <td>85.000000</td>\n",
       "      <td>61.250000</td>\n",
       "      <td>35.000000</td>\n",
       "      <td>29.990000</td>\n",
       "      <td>29.910000</td>\n",
       "      <td>29.830000</td>\n",
       "      <td>10.000000</td>\n",
       "      <td>8.000000</td>\n",
       "      <td>2.000000</td>\n",
       "      <td>13.000000</td>\n",
       "      <td>4.000000</td>\n",
       "      <td>17.000000</td>\n",
       "      <td>0.000000</td>\n",
       "      <td>131.000000</td>\n",
       "    </tr>\n",
       "    <tr>\n",
       "      <th>50%</th>\n",
       "      <td>69.000000</td>\n",
       "      <td>59.000000</td>\n",
       "      <td>47.000000</td>\n",
       "      <td>54.500000</td>\n",
       "      <td>48.000000</td>\n",
       "      <td>41.000000</td>\n",
       "      <td>93.000000</td>\n",
       "      <td>68.000000</td>\n",
       "      <td>42.000000</td>\n",
       "      <td>30.100000</td>\n",
       "      <td>30.020000</td>\n",
       "      <td>29.940000</td>\n",
       "      <td>10.000000</td>\n",
       "      <td>10.000000</td>\n",
       "      <td>6.000000</td>\n",
       "      <td>16.000000</td>\n",
       "      <td>6.000000</td>\n",
       "      <td>22.000000</td>\n",
       "      <td>2.000000</td>\n",
       "      <td>192.500000</td>\n",
       "    </tr>\n",
       "    <tr>\n",
       "      <th>75%</th>\n",
       "      <td>84.000000</td>\n",
       "      <td>70.750000</td>\n",
       "      <td>57.750000</td>\n",
       "      <td>62.000000</td>\n",
       "      <td>57.000000</td>\n",
       "      <td>51.000000</td>\n",
       "      <td>96.000000</td>\n",
       "      <td>74.000000</td>\n",
       "      <td>54.000000</td>\n",
       "      <td>30.210000</td>\n",
       "      <td>30.127500</td>\n",
       "      <td>30.040000</td>\n",
       "      <td>10.000000</td>\n",
       "      <td>10.000000</td>\n",
       "      <td>10.000000</td>\n",
       "      <td>20.000000</td>\n",
       "      <td>8.000000</td>\n",
       "      <td>26.000000</td>\n",
       "      <td>5.000000</td>\n",
       "      <td>259.750000</td>\n",
       "    </tr>\n",
       "    <tr>\n",
       "      <th>max</th>\n",
       "      <td>106.000000</td>\n",
       "      <td>89.000000</td>\n",
       "      <td>77.000000</td>\n",
       "      <td>77.000000</td>\n",
       "      <td>72.000000</td>\n",
       "      <td>71.000000</td>\n",
       "      <td>100.000000</td>\n",
       "      <td>95.000000</td>\n",
       "      <td>90.000000</td>\n",
       "      <td>30.600000</td>\n",
       "      <td>30.480000</td>\n",
       "      <td>30.440000</td>\n",
       "      <td>10.000000</td>\n",
       "      <td>10.000000</td>\n",
       "      <td>10.000000</td>\n",
       "      <td>39.000000</td>\n",
       "      <td>19.000000</td>\n",
       "      <td>63.000000</td>\n",
       "      <td>8.000000</td>\n",
       "      <td>360.000000</td>\n",
       "    </tr>\n",
       "  </tbody>\n",
       "</table>\n",
       "</div>"
      ],
      "text/plain": [
       "       Max TemperatureF  Mean TemperatureF  Min TemperatureF  Max Dew PointF  \\\n",
       "count        366.000000         366.000000        366.000000      366.000000   \n",
       "mean          66.803279          55.683060         44.101093       49.549180   \n",
       "std           20.361247          18.436506         17.301141       16.397178   \n",
       "min           16.000000          11.000000          1.000000        0.000000   \n",
       "25%           51.000000          41.000000         30.000000       36.000000   \n",
       "50%           69.000000          59.000000         47.000000       54.500000   \n",
       "75%           84.000000          70.750000         57.750000       62.000000   \n",
       "max          106.000000          89.000000         77.000000       77.000000   \n",
       "\n",
       "       MeanDew PointF  Min DewpointF  Max Humidity   Mean Humidity  \\\n",
       "count      366.000000     366.000000    366.000000      366.000000   \n",
       "mean        44.057377      37.980874     90.027322       67.860656   \n",
       "std         16.829996      17.479449      9.108438        9.945591   \n",
       "min         -3.000000      -5.000000     54.000000       37.000000   \n",
       "25%         30.000000      24.000000     85.000000       61.250000   \n",
       "50%         48.000000      41.000000     93.000000       68.000000   \n",
       "75%         57.000000      51.000000     96.000000       74.000000   \n",
       "max         72.000000      71.000000    100.000000       95.000000   \n",
       "\n",
       "        Min Humidity   Max Sea Level PressureIn   Mean Sea Level PressureIn  \\\n",
       "count     366.000000                 366.000000                  366.000000   \n",
       "mean       45.193989                  30.108907                   30.022705   \n",
       "std        15.360261                   0.172189                    0.174112   \n",
       "min        15.000000                  29.640000                   29.420000   \n",
       "25%        35.000000                  29.990000                   29.910000   \n",
       "50%        42.000000                  30.100000                   30.020000   \n",
       "75%        54.000000                  30.210000                   30.127500   \n",
       "max        90.000000                  30.600000                   30.480000   \n",
       "\n",
       "        Min Sea Level PressureIn   Max VisibilityMiles   Mean VisibilityMiles  \\\n",
       "count                 366.000000            366.000000             366.000000   \n",
       "mean                   29.936831              9.994536               8.732240   \n",
       "std                     0.182476              0.073821               1.875406   \n",
       "min                    29.230000              9.000000               2.000000   \n",
       "25%                    29.830000             10.000000               8.000000   \n",
       "50%                    29.940000             10.000000              10.000000   \n",
       "75%                    30.040000             10.000000              10.000000   \n",
       "max                    30.440000             10.000000              10.000000   \n",
       "\n",
       "        Min VisibilityMiles   Max Wind SpeedMPH   Mean Wind SpeedMPH  \\\n",
       "count            366.000000          366.000000           366.000000   \n",
       "mean               5.797814           16.418033             6.057377   \n",
       "std                3.792219            5.564329             3.200940   \n",
       "min                0.000000            6.000000             0.000000   \n",
       "25%                2.000000           13.000000             4.000000   \n",
       "50%                6.000000           16.000000             6.000000   \n",
       "75%               10.000000           20.000000             8.000000   \n",
       "max               10.000000           39.000000            19.000000   \n",
       "\n",
       "        Max Gust SpeedMPH   CloudCover   WindDirDegrees  \n",
       "count          365.000000   366.000000       366.000000  \n",
       "mean            22.764384     2.885246       189.704918  \n",
       "std              8.131092     2.707261        94.045080  \n",
       "min              7.000000     0.000000         1.000000  \n",
       "25%             17.000000     0.000000       131.000000  \n",
       "50%             22.000000     2.000000       192.500000  \n",
       "75%             26.000000     5.000000       259.750000  \n",
       "max             63.000000     8.000000       360.000000  "
      ]
     },
     "execution_count": 30,
     "metadata": {},
     "output_type": "execute_result"
    }
   ],
   "source": [
    "data.describe()\n"
   ]
  },
  {
   "cell_type": "markdown",
   "metadata": {},
   "source": [
    "### Get More Info"
   ]
  },
  {
   "cell_type": "code",
   "execution_count": 31,
   "metadata": {},
   "outputs": [
    {
     "name": "stdout",
     "output_type": "stream",
     "text": [
      "<class 'pandas.core.frame.DataFrame'>\n",
      "RangeIndex: 366 entries, 0 to 365\n",
      "Data columns (total 23 columns):\n",
      "EDT                           366 non-null object\n",
      "Max TemperatureF              366 non-null int64\n",
      "Mean TemperatureF             366 non-null int64\n",
      "Min TemperatureF              366 non-null int64\n",
      "Max Dew PointF                366 non-null int64\n",
      "MeanDew PointF                366 non-null int64\n",
      "Min DewpointF                 366 non-null int64\n",
      "Max Humidity                  366 non-null int64\n",
      " Mean Humidity                366 non-null int64\n",
      " Min Humidity                 366 non-null int64\n",
      " Max Sea Level PressureIn     366 non-null float64\n",
      " Mean Sea Level PressureIn    366 non-null float64\n",
      " Min Sea Level PressureIn     366 non-null float64\n",
      " Max VisibilityMiles          366 non-null int64\n",
      " Mean VisibilityMiles         366 non-null int64\n",
      " Min VisibilityMiles          366 non-null int64\n",
      " Max Wind SpeedMPH            366 non-null int64\n",
      " Mean Wind SpeedMPH           366 non-null int64\n",
      " Max Gust SpeedMPH            365 non-null float64\n",
      "PrecipitationIn               366 non-null object\n",
      " CloudCover                   366 non-null int64\n",
      " Events                       162 non-null object\n",
      " WindDirDegrees               366 non-null int64\n",
      "dtypes: float64(4), int64(16), object(3)\n",
      "memory usage: 65.8+ KB\n"
     ]
    }
   ],
   "source": [
    "data.info()"
   ]
  },
  {
   "cell_type": "markdown",
   "metadata": {},
   "source": [
    "### Fun With Brackets"
   ]
  },
  {
   "cell_type": "code",
   "execution_count": 18,
   "metadata": {},
   "outputs": [],
   "source": [
    "#data1 = data[[\"Max TemperatureF\",\" Events\"]]\n",
    "#data1.head()"
   ]
  },
  {
   "cell_type": "code",
   "execution_count": 32,
   "metadata": {},
   "outputs": [
    {
     "name": "stdout",
     "output_type": "stream",
     "text": [
      "<class 'pandas.core.series.Series'>\n",
      "<class 'pandas.core.frame.DataFrame'>\n"
     ]
    }
   ],
   "source": [
    "print (type(data[\"Max TemperatureF\"]))\n",
    "print (type(data[[\"Max TemperatureF\"]]))"
   ]
  },
  {
   "cell_type": "code",
   "execution_count": 33,
   "metadata": {},
   "outputs": [
    {
     "data": {
      "text/html": [
       "<div>\n",
       "<style scoped>\n",
       "    .dataframe tbody tr th:only-of-type {\n",
       "        vertical-align: middle;\n",
       "    }\n",
       "\n",
       "    .dataframe tbody tr th {\n",
       "        vertical-align: top;\n",
       "    }\n",
       "\n",
       "    .dataframe thead th {\n",
       "        text-align: right;\n",
       "    }\n",
       "</style>\n",
       "<table border=\"1\" class=\"dataframe\">\n",
       "  <thead>\n",
       "    <tr style=\"text-align: right;\">\n",
       "      <th></th>\n",
       "      <th>Max TemperatureF</th>\n",
       "    </tr>\n",
       "  </thead>\n",
       "  <tbody>\n",
       "    <tr>\n",
       "      <th>0</th>\n",
       "      <td>56</td>\n",
       "    </tr>\n",
       "    <tr>\n",
       "      <th>1</th>\n",
       "      <td>67</td>\n",
       "    </tr>\n",
       "    <tr>\n",
       "      <th>2</th>\n",
       "      <td>71</td>\n",
       "    </tr>\n",
       "    <tr>\n",
       "      <th>3</th>\n",
       "      <td>76</td>\n",
       "    </tr>\n",
       "    <tr>\n",
       "      <th>4</th>\n",
       "      <td>80</td>\n",
       "    </tr>\n",
       "    <tr>\n",
       "      <th>5</th>\n",
       "      <td>79</td>\n",
       "    </tr>\n",
       "    <tr>\n",
       "      <th>6</th>\n",
       "      <td>75</td>\n",
       "    </tr>\n",
       "    <tr>\n",
       "      <th>7</th>\n",
       "      <td>78</td>\n",
       "    </tr>\n",
       "    <tr>\n",
       "      <th>8</th>\n",
       "      <td>80</td>\n",
       "    </tr>\n",
       "    <tr>\n",
       "      <th>9</th>\n",
       "      <td>84</td>\n",
       "    </tr>\n",
       "    <tr>\n",
       "      <th>10</th>\n",
       "      <td>84</td>\n",
       "    </tr>\n",
       "    <tr>\n",
       "      <th>11</th>\n",
       "      <td>84</td>\n",
       "    </tr>\n",
       "    <tr>\n",
       "      <th>12</th>\n",
       "      <td>81</td>\n",
       "    </tr>\n",
       "    <tr>\n",
       "      <th>13</th>\n",
       "      <td>73</td>\n",
       "    </tr>\n",
       "    <tr>\n",
       "      <th>14</th>\n",
       "      <td>65</td>\n",
       "    </tr>\n",
       "    <tr>\n",
       "      <th>15</th>\n",
       "      <td>69</td>\n",
       "    </tr>\n",
       "    <tr>\n",
       "      <th>16</th>\n",
       "      <td>63</td>\n",
       "    </tr>\n",
       "    <tr>\n",
       "      <th>17</th>\n",
       "      <td>70</td>\n",
       "    </tr>\n",
       "    <tr>\n",
       "      <th>18</th>\n",
       "      <td>77</td>\n",
       "    </tr>\n",
       "    <tr>\n",
       "      <th>19</th>\n",
       "      <td>69</td>\n",
       "    </tr>\n",
       "    <tr>\n",
       "      <th>20</th>\n",
       "      <td>81</td>\n",
       "    </tr>\n",
       "    <tr>\n",
       "      <th>21</th>\n",
       "      <td>66</td>\n",
       "    </tr>\n",
       "    <tr>\n",
       "      <th>22</th>\n",
       "      <td>79</td>\n",
       "    </tr>\n",
       "    <tr>\n",
       "      <th>23</th>\n",
       "      <td>68</td>\n",
       "    </tr>\n",
       "    <tr>\n",
       "      <th>24</th>\n",
       "      <td>84</td>\n",
       "    </tr>\n",
       "    <tr>\n",
       "      <th>25</th>\n",
       "      <td>68</td>\n",
       "    </tr>\n",
       "    <tr>\n",
       "      <th>26</th>\n",
       "      <td>61</td>\n",
       "    </tr>\n",
       "    <tr>\n",
       "      <th>27</th>\n",
       "      <td>61</td>\n",
       "    </tr>\n",
       "    <tr>\n",
       "      <th>28</th>\n",
       "      <td>67</td>\n",
       "    </tr>\n",
       "    <tr>\n",
       "      <th>29</th>\n",
       "      <td>66</td>\n",
       "    </tr>\n",
       "    <tr>\n",
       "      <th>...</th>\n",
       "      <td>...</td>\n",
       "    </tr>\n",
       "    <tr>\n",
       "      <th>336</th>\n",
       "      <td>43</td>\n",
       "    </tr>\n",
       "    <tr>\n",
       "      <th>337</th>\n",
       "      <td>52</td>\n",
       "    </tr>\n",
       "    <tr>\n",
       "      <th>338</th>\n",
       "      <td>53</td>\n",
       "    </tr>\n",
       "    <tr>\n",
       "      <th>339</th>\n",
       "      <td>45</td>\n",
       "    </tr>\n",
       "    <tr>\n",
       "      <th>340</th>\n",
       "      <td>44</td>\n",
       "    </tr>\n",
       "    <tr>\n",
       "      <th>341</th>\n",
       "      <td>52</td>\n",
       "    </tr>\n",
       "    <tr>\n",
       "      <th>342</th>\n",
       "      <td>39</td>\n",
       "    </tr>\n",
       "    <tr>\n",
       "      <th>343</th>\n",
       "      <td>29</td>\n",
       "    </tr>\n",
       "    <tr>\n",
       "      <th>344</th>\n",
       "      <td>36</td>\n",
       "    </tr>\n",
       "    <tr>\n",
       "      <th>345</th>\n",
       "      <td>58</td>\n",
       "    </tr>\n",
       "    <tr>\n",
       "      <th>346</th>\n",
       "      <td>47</td>\n",
       "    </tr>\n",
       "    <tr>\n",
       "      <th>347</th>\n",
       "      <td>28</td>\n",
       "    </tr>\n",
       "    <tr>\n",
       "      <th>348</th>\n",
       "      <td>33</td>\n",
       "    </tr>\n",
       "    <tr>\n",
       "      <th>349</th>\n",
       "      <td>37</td>\n",
       "    </tr>\n",
       "    <tr>\n",
       "      <th>350</th>\n",
       "      <td>38</td>\n",
       "    </tr>\n",
       "    <tr>\n",
       "      <th>351</th>\n",
       "      <td>45</td>\n",
       "    </tr>\n",
       "    <tr>\n",
       "      <th>352</th>\n",
       "      <td>47</td>\n",
       "    </tr>\n",
       "    <tr>\n",
       "      <th>353</th>\n",
       "      <td>44</td>\n",
       "    </tr>\n",
       "    <tr>\n",
       "      <th>354</th>\n",
       "      <td>40</td>\n",
       "    </tr>\n",
       "    <tr>\n",
       "      <th>355</th>\n",
       "      <td>37</td>\n",
       "    </tr>\n",
       "    <tr>\n",
       "      <th>356</th>\n",
       "      <td>36</td>\n",
       "    </tr>\n",
       "    <tr>\n",
       "      <th>357</th>\n",
       "      <td>32</td>\n",
       "    </tr>\n",
       "    <tr>\n",
       "      <th>358</th>\n",
       "      <td>37</td>\n",
       "    </tr>\n",
       "    <tr>\n",
       "      <th>359</th>\n",
       "      <td>40</td>\n",
       "    </tr>\n",
       "    <tr>\n",
       "      <th>360</th>\n",
       "      <td>40</td>\n",
       "    </tr>\n",
       "    <tr>\n",
       "      <th>361</th>\n",
       "      <td>32</td>\n",
       "    </tr>\n",
       "    <tr>\n",
       "      <th>362</th>\n",
       "      <td>36</td>\n",
       "    </tr>\n",
       "    <tr>\n",
       "      <th>363</th>\n",
       "      <td>47</td>\n",
       "    </tr>\n",
       "    <tr>\n",
       "      <th>364</th>\n",
       "      <td>56</td>\n",
       "    </tr>\n",
       "    <tr>\n",
       "      <th>365</th>\n",
       "      <td>60</td>\n",
       "    </tr>\n",
       "  </tbody>\n",
       "</table>\n",
       "<p>366 rows × 1 columns</p>\n",
       "</div>"
      ],
      "text/plain": [
       "     Max TemperatureF\n",
       "0                  56\n",
       "1                  67\n",
       "2                  71\n",
       "3                  76\n",
       "4                  80\n",
       "5                  79\n",
       "6                  75\n",
       "7                  78\n",
       "8                  80\n",
       "9                  84\n",
       "10                 84\n",
       "11                 84\n",
       "12                 81\n",
       "13                 73\n",
       "14                 65\n",
       "15                 69\n",
       "16                 63\n",
       "17                 70\n",
       "18                 77\n",
       "19                 69\n",
       "20                 81\n",
       "21                 66\n",
       "22                 79\n",
       "23                 68\n",
       "24                 84\n",
       "25                 68\n",
       "26                 61\n",
       "27                 61\n",
       "28                 67\n",
       "29                 66\n",
       "..                ...\n",
       "336                43\n",
       "337                52\n",
       "338                53\n",
       "339                45\n",
       "340                44\n",
       "341                52\n",
       "342                39\n",
       "343                29\n",
       "344                36\n",
       "345                58\n",
       "346                47\n",
       "347                28\n",
       "348                33\n",
       "349                37\n",
       "350                38\n",
       "351                45\n",
       "352                47\n",
       "353                44\n",
       "354                40\n",
       "355                37\n",
       "356                36\n",
       "357                32\n",
       "358                37\n",
       "359                40\n",
       "360                40\n",
       "361                32\n",
       "362                36\n",
       "363                47\n",
       "364                56\n",
       "365                60\n",
       "\n",
       "[366 rows x 1 columns]"
      ]
     },
     "execution_count": 33,
     "metadata": {},
     "output_type": "execute_result"
    }
   ],
   "source": [
    "data[[\"Max TemperatureF\"]]"
   ]
  },
  {
   "cell_type": "markdown",
   "metadata": {},
   "source": [
    "### Not Only Brackets"
   ]
  },
  {
   "cell_type": "code",
   "execution_count": 21,
   "metadata": {},
   "outputs": [
    {
     "data": {
      "text/plain": [
       "0      2012-3-10\n",
       "1      2012-3-11\n",
       "2      2012-3-12\n",
       "3      2012-3-13\n",
       "4      2012-3-14\n",
       "5      2012-3-15\n",
       "6      2012-3-16\n",
       "7      2012-3-17\n",
       "8      2012-3-18\n",
       "9      2012-3-19\n",
       "10     2012-3-20\n",
       "11     2012-3-21\n",
       "12     2012-3-22\n",
       "13     2012-3-23\n",
       "14     2012-3-24\n",
       "15     2012-3-25\n",
       "16     2012-3-26\n",
       "17     2012-3-27\n",
       "18     2012-3-28\n",
       "19     2012-3-29\n",
       "20     2012-3-30\n",
       "21     2012-3-31\n",
       "22      2012-4-1\n",
       "23      2012-4-2\n",
       "24      2012-4-3\n",
       "25      2012-4-4\n",
       "26      2012-4-5\n",
       "27      2012-4-6\n",
       "28      2012-4-7\n",
       "29      2012-4-8\n",
       "         ...    \n",
       "336     2013-2-9\n",
       "337    2013-2-10\n",
       "338    2013-2-11\n",
       "339    2013-2-12\n",
       "340    2013-2-13\n",
       "341    2013-2-14\n",
       "342    2013-2-15\n",
       "343    2013-2-16\n",
       "344    2013-2-17\n",
       "345    2013-2-18\n",
       "346    2013-2-19\n",
       "347    2013-2-20\n",
       "348    2013-2-21\n",
       "349    2013-2-22\n",
       "350    2013-2-23\n",
       "351    2013-2-24\n",
       "352    2013-2-25\n",
       "353    2013-2-26\n",
       "354    2013-2-27\n",
       "355    2013-2-28\n",
       "356     2013-3-1\n",
       "357     2013-3-2\n",
       "358     2013-3-3\n",
       "359     2013-3-4\n",
       "360     2013-3-5\n",
       "361     2013-3-6\n",
       "362     2013-3-7\n",
       "363     2013-3-8\n",
       "364     2013-3-9\n",
       "365    2013-3-10\n",
       "Name: EDT, Length: 366, dtype: object"
      ]
     },
     "execution_count": 21,
     "metadata": {},
     "output_type": "execute_result"
    }
   ],
   "source": [
    "\n",
    "data.EDT"
   ]
  },
  {
   "cell_type": "markdown",
   "metadata": {},
   "source": [
    "### Renaming Column Names"
   ]
  },
  {
   "cell_type": "code",
   "execution_count": 23,
   "metadata": {},
   "outputs": [
    {
     "data": {
      "text/plain": [
       "Index(['EDT', 'Max TemperatureF', 'Mean TemperatureF', 'Min TemperatureF',\n",
       "       'Max Dew PointF', 'MeanDew PointF', 'Min DewpointF', 'Max Humidity',\n",
       "       ' Mean Humidity', ' Min Humidity', ' Max Sea Level PressureIn',\n",
       "       ' Mean Sea Level PressureIn', ' Min Sea Level PressureIn',\n",
       "       ' Max VisibilityMiles', ' Mean VisibilityMiles', ' Min VisibilityMiles',\n",
       "       ' Max Wind SpeedMPH', ' Mean Wind SpeedMPH', ' Max Gust SpeedMPH',\n",
       "       'PrecipitationIn', ' CloudCover', ' Events', ' WindDirDegrees'],\n",
       "      dtype='object')"
      ]
     },
     "execution_count": 23,
     "metadata": {},
     "output_type": "execute_result"
    }
   ],
   "source": [
    "data.columns"
   ]
  },
  {
   "cell_type": "code",
   "execution_count": 20,
   "metadata": {},
   "outputs": [],
   "source": [
    "data.columns = [\"time\", \"max_temp\", \"mean_temp\", \"min_temp\", \"max_dew\",\n",
    "                \"mean_dew\", \"min_dew\", \"max_humidity\", \"mean_humidity\",\n",
    "                \"min_humidity\", \"max_pressure\", \"mean_pressure\",\n",
    "                \"min_pressure\", \"max_visibilty\", \"mean_visibility\",\n",
    "                \"min_visibility\", \"max_wind\", \"mean_wind\", \"min_wind\",\n",
    "                \"precipitation\", \"cloud_cover\", \"events\", \"wind_dir\"]"
   ]
  },
  {
   "cell_type": "code",
   "execution_count": 21,
   "metadata": {},
   "outputs": [
    {
     "data": {
      "text/plain": [
       "Index(['time', 'max_temp', 'mean_temp', 'min_temp', 'max_dew', 'mean_dew',\n",
       "       'min_dew', 'max_humidity', 'mean_humidity', 'min_humidity',\n",
       "       'max_pressure', 'mean_pressure', 'min_pressure', 'max_visibilty',\n",
       "       'mean_visibility', 'min_visibility', 'max_wind', 'mean_wind',\n",
       "       'min_wind', 'precipitation', 'cloud_cover', 'events', 'wind_dir'],\n",
       "      dtype='object')"
      ]
     },
     "execution_count": 21,
     "metadata": {},
     "output_type": "execute_result"
    }
   ],
   "source": [
    "data.columns"
   ]
  },
  {
   "cell_type": "code",
   "execution_count": 23,
   "metadata": {},
   "outputs": [
    {
     "data": {
      "text/plain": [
       "49"
      ]
     },
     "execution_count": 23,
     "metadata": {},
     "output_type": "execute_result"
    }
   ],
   "source": [
    "data.max_dew.mean()"
   ]
  },
  {
   "cell_type": "code",
   "execution_count": 39,
   "metadata": {},
   "outputs": [
    {
     "data": {
      "text/html": [
       "<div>\n",
       "<style scoped>\n",
       "    .dataframe tbody tr th:only-of-type {\n",
       "        vertical-align: middle;\n",
       "    }\n",
       "\n",
       "    .dataframe tbody tr th {\n",
       "        vertical-align: top;\n",
       "    }\n",
       "\n",
       "    .dataframe thead th {\n",
       "        text-align: right;\n",
       "    }\n",
       "</style>\n",
       "<table border=\"1\" class=\"dataframe\">\n",
       "  <thead>\n",
       "    <tr style=\"text-align: right;\">\n",
       "      <th></th>\n",
       "      <th>time</th>\n",
       "      <th>max_temp</th>\n",
       "      <th>mean_temp</th>\n",
       "      <th>min_temp</th>\n",
       "      <th>max_dew</th>\n",
       "      <th>mean_dew</th>\n",
       "      <th>min_dew</th>\n",
       "      <th>max_humidity</th>\n",
       "      <th>mean_humidity</th>\n",
       "      <th>min_humidity</th>\n",
       "      <th>...</th>\n",
       "      <th>max_visibilty</th>\n",
       "      <th>mean_visibility</th>\n",
       "      <th>min_visibility</th>\n",
       "      <th>max_wind</th>\n",
       "      <th>mean_wind</th>\n",
       "      <th>min_wind</th>\n",
       "      <th>precipitation</th>\n",
       "      <th>cloud_cover</th>\n",
       "      <th>events</th>\n",
       "      <th>wind_dir</th>\n",
       "    </tr>\n",
       "  </thead>\n",
       "  <tbody>\n",
       "    <tr>\n",
       "      <th>0</th>\n",
       "      <td>2012-3-10</td>\n",
       "      <td>56</td>\n",
       "      <td>40</td>\n",
       "      <td>24</td>\n",
       "      <td>24</td>\n",
       "      <td>20</td>\n",
       "      <td>16</td>\n",
       "      <td>74</td>\n",
       "      <td>50</td>\n",
       "      <td>26</td>\n",
       "      <td>...</td>\n",
       "      <td>10</td>\n",
       "      <td>10</td>\n",
       "      <td>10</td>\n",
       "      <td>13</td>\n",
       "      <td>6</td>\n",
       "      <td>17.0</td>\n",
       "      <td>0.00</td>\n",
       "      <td>0</td>\n",
       "      <td>NaN</td>\n",
       "      <td>138</td>\n",
       "    </tr>\n",
       "    <tr>\n",
       "      <th>1</th>\n",
       "      <td>2012-3-11</td>\n",
       "      <td>67</td>\n",
       "      <td>49</td>\n",
       "      <td>30</td>\n",
       "      <td>43</td>\n",
       "      <td>31</td>\n",
       "      <td>24</td>\n",
       "      <td>78</td>\n",
       "      <td>53</td>\n",
       "      <td>28</td>\n",
       "      <td>...</td>\n",
       "      <td>10</td>\n",
       "      <td>10</td>\n",
       "      <td>10</td>\n",
       "      <td>22</td>\n",
       "      <td>7</td>\n",
       "      <td>32.0</td>\n",
       "      <td>T</td>\n",
       "      <td>1</td>\n",
       "      <td>Rain</td>\n",
       "      <td>163</td>\n",
       "    </tr>\n",
       "    <tr>\n",
       "      <th>2</th>\n",
       "      <td>2012-3-12</td>\n",
       "      <td>71</td>\n",
       "      <td>62</td>\n",
       "      <td>53</td>\n",
       "      <td>59</td>\n",
       "      <td>55</td>\n",
       "      <td>43</td>\n",
       "      <td>90</td>\n",
       "      <td>76</td>\n",
       "      <td>61</td>\n",
       "      <td>...</td>\n",
       "      <td>10</td>\n",
       "      <td>10</td>\n",
       "      <td>6</td>\n",
       "      <td>24</td>\n",
       "      <td>14</td>\n",
       "      <td>36.0</td>\n",
       "      <td>0.03</td>\n",
       "      <td>6</td>\n",
       "      <td>Rain</td>\n",
       "      <td>190</td>\n",
       "    </tr>\n",
       "    <tr>\n",
       "      <th>3</th>\n",
       "      <td>2012-3-13</td>\n",
       "      <td>76</td>\n",
       "      <td>63</td>\n",
       "      <td>50</td>\n",
       "      <td>57</td>\n",
       "      <td>53</td>\n",
       "      <td>47</td>\n",
       "      <td>93</td>\n",
       "      <td>66</td>\n",
       "      <td>38</td>\n",
       "      <td>...</td>\n",
       "      <td>10</td>\n",
       "      <td>10</td>\n",
       "      <td>4</td>\n",
       "      <td>16</td>\n",
       "      <td>5</td>\n",
       "      <td>24.0</td>\n",
       "      <td>0.00</td>\n",
       "      <td>0</td>\n",
       "      <td>NaN</td>\n",
       "      <td>242</td>\n",
       "    </tr>\n",
       "    <tr>\n",
       "      <th>4</th>\n",
       "      <td>2012-3-14</td>\n",
       "      <td>80</td>\n",
       "      <td>62</td>\n",
       "      <td>44</td>\n",
       "      <td>58</td>\n",
       "      <td>52</td>\n",
       "      <td>43</td>\n",
       "      <td>93</td>\n",
       "      <td>68</td>\n",
       "      <td>42</td>\n",
       "      <td>...</td>\n",
       "      <td>10</td>\n",
       "      <td>10</td>\n",
       "      <td>10</td>\n",
       "      <td>16</td>\n",
       "      <td>6</td>\n",
       "      <td>22.0</td>\n",
       "      <td>0.00</td>\n",
       "      <td>0</td>\n",
       "      <td>NaN</td>\n",
       "      <td>202</td>\n",
       "    </tr>\n",
       "  </tbody>\n",
       "</table>\n",
       "<p>5 rows × 23 columns</p>\n",
       "</div>"
      ],
      "text/plain": [
       "        time  max_temp  mean_temp  min_temp  max_dew  mean_dew  min_dew  \\\n",
       "0  2012-3-10        56         40        24       24        20       16   \n",
       "1  2012-3-11        67         49        30       43        31       24   \n",
       "2  2012-3-12        71         62        53       59        55       43   \n",
       "3  2012-3-13        76         63        50       57        53       47   \n",
       "4  2012-3-14        80         62        44       58        52       43   \n",
       "\n",
       "   max_humidity  mean_humidity  min_humidity   ...     max_visibilty  \\\n",
       "0            74             50            26   ...                10   \n",
       "1            78             53            28   ...                10   \n",
       "2            90             76            61   ...                10   \n",
       "3            93             66            38   ...                10   \n",
       "4            93             68            42   ...                10   \n",
       "\n",
       "   mean_visibility  min_visibility  max_wind  mean_wind  min_wind  \\\n",
       "0               10              10        13          6      17.0   \n",
       "1               10              10        22          7      32.0   \n",
       "2               10               6        24         14      36.0   \n",
       "3               10               4        16          5      24.0   \n",
       "4               10              10        16          6      22.0   \n",
       "\n",
       "   precipitation  cloud_cover  events wind_dir  \n",
       "0           0.00            0     NaN      138  \n",
       "1              T            1    Rain      163  \n",
       "2           0.03            6    Rain      190  \n",
       "3           0.00            0     NaN      242  \n",
       "4           0.00            0     NaN      202  \n",
       "\n",
       "[5 rows x 23 columns]"
      ]
     },
     "execution_count": 39,
     "metadata": {},
     "output_type": "execute_result"
    }
   ],
   "source": [
    "data.head()"
   ]
  },
  {
   "cell_type": "markdown",
   "metadata": {},
   "source": [
    "### Lets Rename Single Column"
   ]
  },
  {
   "cell_type": "code",
   "execution_count": 24,
   "metadata": {},
   "outputs": [
    {
     "data": {
      "text/html": [
       "<div>\n",
       "<style scoped>\n",
       "    .dataframe tbody tr th:only-of-type {\n",
       "        vertical-align: middle;\n",
       "    }\n",
       "\n",
       "    .dataframe tbody tr th {\n",
       "        vertical-align: top;\n",
       "    }\n",
       "\n",
       "    .dataframe thead th {\n",
       "        text-align: right;\n",
       "    }\n",
       "</style>\n",
       "<table border=\"1\" class=\"dataframe\">\n",
       "  <thead>\n",
       "    <tr style=\"text-align: right;\">\n",
       "      <th></th>\n",
       "      <th>date</th>\n",
       "      <th>max_temp</th>\n",
       "      <th>mean_temp</th>\n",
       "      <th>min_temp</th>\n",
       "      <th>max_dew</th>\n",
       "      <th>mean_dew</th>\n",
       "      <th>min_dew</th>\n",
       "      <th>max_humidity</th>\n",
       "      <th>mean_humidity</th>\n",
       "      <th>min_humidity</th>\n",
       "      <th>...</th>\n",
       "      <th>max_visibilty</th>\n",
       "      <th>mean_visibility</th>\n",
       "      <th>min_visibility</th>\n",
       "      <th>max_wind</th>\n",
       "      <th>mean_wind</th>\n",
       "      <th>min_wind</th>\n",
       "      <th>precipitation</th>\n",
       "      <th>cloud_cover</th>\n",
       "      <th>events</th>\n",
       "      <th>wind_dir</th>\n",
       "    </tr>\n",
       "  </thead>\n",
       "  <tbody>\n",
       "    <tr>\n",
       "      <th>0</th>\n",
       "      <td>2012-3-10</td>\n",
       "      <td>56</td>\n",
       "      <td>40</td>\n",
       "      <td>24</td>\n",
       "      <td>24</td>\n",
       "      <td>20</td>\n",
       "      <td>16</td>\n",
       "      <td>74</td>\n",
       "      <td>50</td>\n",
       "      <td>26</td>\n",
       "      <td>...</td>\n",
       "      <td>10</td>\n",
       "      <td>10</td>\n",
       "      <td>10</td>\n",
       "      <td>13</td>\n",
       "      <td>6</td>\n",
       "      <td>17.0</td>\n",
       "      <td>0.00</td>\n",
       "      <td>0</td>\n",
       "      <td>NaN</td>\n",
       "      <td>138</td>\n",
       "    </tr>\n",
       "    <tr>\n",
       "      <th>1</th>\n",
       "      <td>2012-3-11</td>\n",
       "      <td>67</td>\n",
       "      <td>49</td>\n",
       "      <td>30</td>\n",
       "      <td>43</td>\n",
       "      <td>31</td>\n",
       "      <td>24</td>\n",
       "      <td>78</td>\n",
       "      <td>53</td>\n",
       "      <td>28</td>\n",
       "      <td>...</td>\n",
       "      <td>10</td>\n",
       "      <td>10</td>\n",
       "      <td>10</td>\n",
       "      <td>22</td>\n",
       "      <td>7</td>\n",
       "      <td>32.0</td>\n",
       "      <td>T</td>\n",
       "      <td>1</td>\n",
       "      <td>Rain</td>\n",
       "      <td>163</td>\n",
       "    </tr>\n",
       "  </tbody>\n",
       "</table>\n",
       "<p>2 rows × 23 columns</p>\n",
       "</div>"
      ],
      "text/plain": [
       "        date  max_temp  mean_temp  min_temp  max_dew  mean_dew  min_dew  \\\n",
       "0  2012-3-10        56         40        24       24        20       16   \n",
       "1  2012-3-11        67         49        30       43        31       24   \n",
       "\n",
       "   max_humidity  mean_humidity  min_humidity   ...     max_visibilty  \\\n",
       "0            74             50            26   ...                10   \n",
       "1            78             53            28   ...                10   \n",
       "\n",
       "   mean_visibility  min_visibility  max_wind  mean_wind  min_wind  \\\n",
       "0               10              10        13          6      17.0   \n",
       "1               10              10        22          7      32.0   \n",
       "\n",
       "   precipitation  cloud_cover  events wind_dir  \n",
       "0           0.00            0     NaN      138  \n",
       "1              T            1    Rain      163  \n",
       "\n",
       "[2 rows x 23 columns]"
      ]
     },
     "execution_count": 24,
     "metadata": {},
     "output_type": "execute_result"
    }
   ],
   "source": [
    "data = data.rename(columns={\"time\":\"date\"})\n",
    "data.head(2)"
   ]
  },
  {
   "cell_type": "code",
   "execution_count": 26,
   "metadata": {},
   "outputs": [
    {
     "data": {
      "text/plain": [
       "str"
      ]
     },
     "execution_count": 26,
     "metadata": {},
     "output_type": "execute_result"
    }
   ],
   "source": [
    "type(data.date[0])"
   ]
  },
  {
   "cell_type": "markdown",
   "metadata": {},
   "source": [
    "### Always Hit Tab For Magic "
   ]
  },
  {
   "cell_type": "code",
   "execution_count": 30,
   "metadata": {},
   "outputs": [
    {
     "data": {
      "text/plain": [
       "66.80327868852459"
      ]
     },
     "execution_count": 30,
     "metadata": {},
     "output_type": "execute_result"
    }
   ],
   "source": [
    "data.max_temp.mean()"
   ]
  },
  {
   "cell_type": "code",
   "execution_count": 34,
   "metadata": {},
   "outputs": [
    {
     "data": {
      "text/plain": [
       "'2012-3-10'"
      ]
     },
     "execution_count": 34,
     "metadata": {},
     "output_type": "execute_result"
    }
   ],
   "source": [
    "data.date[0]"
   ]
  },
  {
   "cell_type": "markdown",
   "metadata": {},
   "source": [
    "### Modifying Date From String To Date Format"
   ]
  },
  {
   "cell_type": "code",
   "execution_count": 29,
   "metadata": {},
   "outputs": [
    {
     "name": "stdout",
     "output_type": "stream",
     "text": [
      "2012-3-10 <class 'str'>\n"
     ]
    },
    {
     "data": {
      "text/plain": [
       "datetime.datetime(2012, 3, 10, 0, 0)"
      ]
     },
     "execution_count": 29,
     "metadata": {},
     "output_type": "execute_result"
    }
   ],
   "source": [
    "first_date = data.date.values[0]\n",
    "print(first_date,type(first_date))\n",
    "from datetime import datetime\n",
    "datetime.strptime(first_date, \"%Y-%m-%d\")"
   ]
  },
  {
   "cell_type": "markdown",
   "metadata": {},
   "source": [
    "### Lets change Complete Column"
   ]
  },
  {
   "cell_type": "code",
   "execution_count": 41,
   "metadata": {},
   "outputs": [
    {
     "data": {
      "text/html": [
       "<div>\n",
       "<style scoped>\n",
       "    .dataframe tbody tr th:only-of-type {\n",
       "        vertical-align: middle;\n",
       "    }\n",
       "\n",
       "    .dataframe tbody tr th {\n",
       "        vertical-align: top;\n",
       "    }\n",
       "\n",
       "    .dataframe thead th {\n",
       "        text-align: right;\n",
       "    }\n",
       "</style>\n",
       "<table border=\"1\" class=\"dataframe\">\n",
       "  <thead>\n",
       "    <tr style=\"text-align: right;\">\n",
       "      <th></th>\n",
       "      <th>date</th>\n",
       "      <th>max_temp</th>\n",
       "      <th>mean_temp</th>\n",
       "      <th>min_temp</th>\n",
       "      <th>max_dew</th>\n",
       "      <th>mean_dew</th>\n",
       "      <th>min_dew</th>\n",
       "      <th>max_humidity</th>\n",
       "      <th>mean_humidity</th>\n",
       "      <th>min_humidity</th>\n",
       "      <th>...</th>\n",
       "      <th>max_visibilty</th>\n",
       "      <th>mean_visibility</th>\n",
       "      <th>min_visibility</th>\n",
       "      <th>max_wind</th>\n",
       "      <th>mean_wind</th>\n",
       "      <th>min_wind</th>\n",
       "      <th>precipitation</th>\n",
       "      <th>cloud_cover</th>\n",
       "      <th>events</th>\n",
       "      <th>wind_dir</th>\n",
       "    </tr>\n",
       "    <tr>\n",
       "      <th>date</th>\n",
       "      <th></th>\n",
       "      <th></th>\n",
       "      <th></th>\n",
       "      <th></th>\n",
       "      <th></th>\n",
       "      <th></th>\n",
       "      <th></th>\n",
       "      <th></th>\n",
       "      <th></th>\n",
       "      <th></th>\n",
       "      <th></th>\n",
       "      <th></th>\n",
       "      <th></th>\n",
       "      <th></th>\n",
       "      <th></th>\n",
       "      <th></th>\n",
       "      <th></th>\n",
       "      <th></th>\n",
       "      <th></th>\n",
       "      <th></th>\n",
       "      <th></th>\n",
       "    </tr>\n",
       "  </thead>\n",
       "  <tbody>\n",
       "    <tr>\n",
       "      <th>2012-3-10</th>\n",
       "      <td>2012-03-10</td>\n",
       "      <td>56</td>\n",
       "      <td>40</td>\n",
       "      <td>24</td>\n",
       "      <td>24</td>\n",
       "      <td>20</td>\n",
       "      <td>16</td>\n",
       "      <td>74</td>\n",
       "      <td>50</td>\n",
       "      <td>26</td>\n",
       "      <td>...</td>\n",
       "      <td>10</td>\n",
       "      <td>10</td>\n",
       "      <td>10</td>\n",
       "      <td>13</td>\n",
       "      <td>6</td>\n",
       "      <td>17.0</td>\n",
       "      <td>0.00</td>\n",
       "      <td>0</td>\n",
       "      <td>NaN</td>\n",
       "      <td>138</td>\n",
       "    </tr>\n",
       "    <tr>\n",
       "      <th>2012-3-11</th>\n",
       "      <td>2012-03-11</td>\n",
       "      <td>67</td>\n",
       "      <td>49</td>\n",
       "      <td>30</td>\n",
       "      <td>43</td>\n",
       "      <td>31</td>\n",
       "      <td>24</td>\n",
       "      <td>78</td>\n",
       "      <td>53</td>\n",
       "      <td>28</td>\n",
       "      <td>...</td>\n",
       "      <td>10</td>\n",
       "      <td>10</td>\n",
       "      <td>10</td>\n",
       "      <td>22</td>\n",
       "      <td>7</td>\n",
       "      <td>32.0</td>\n",
       "      <td>T</td>\n",
       "      <td>1</td>\n",
       "      <td>Rain</td>\n",
       "      <td>163</td>\n",
       "    </tr>\n",
       "    <tr>\n",
       "      <th>2012-3-12</th>\n",
       "      <td>2012-03-12</td>\n",
       "      <td>71</td>\n",
       "      <td>62</td>\n",
       "      <td>53</td>\n",
       "      <td>59</td>\n",
       "      <td>55</td>\n",
       "      <td>43</td>\n",
       "      <td>90</td>\n",
       "      <td>76</td>\n",
       "      <td>61</td>\n",
       "      <td>...</td>\n",
       "      <td>10</td>\n",
       "      <td>10</td>\n",
       "      <td>6</td>\n",
       "      <td>24</td>\n",
       "      <td>14</td>\n",
       "      <td>36.0</td>\n",
       "      <td>0.03</td>\n",
       "      <td>6</td>\n",
       "      <td>Rain</td>\n",
       "      <td>190</td>\n",
       "    </tr>\n",
       "    <tr>\n",
       "      <th>2012-3-13</th>\n",
       "      <td>2012-03-13</td>\n",
       "      <td>76</td>\n",
       "      <td>63</td>\n",
       "      <td>50</td>\n",
       "      <td>57</td>\n",
       "      <td>53</td>\n",
       "      <td>47</td>\n",
       "      <td>93</td>\n",
       "      <td>66</td>\n",
       "      <td>38</td>\n",
       "      <td>...</td>\n",
       "      <td>10</td>\n",
       "      <td>10</td>\n",
       "      <td>4</td>\n",
       "      <td>16</td>\n",
       "      <td>5</td>\n",
       "      <td>24.0</td>\n",
       "      <td>0.00</td>\n",
       "      <td>0</td>\n",
       "      <td>NaN</td>\n",
       "      <td>242</td>\n",
       "    </tr>\n",
       "    <tr>\n",
       "      <th>2012-3-14</th>\n",
       "      <td>2012-03-14</td>\n",
       "      <td>80</td>\n",
       "      <td>62</td>\n",
       "      <td>44</td>\n",
       "      <td>58</td>\n",
       "      <td>52</td>\n",
       "      <td>43</td>\n",
       "      <td>93</td>\n",
       "      <td>68</td>\n",
       "      <td>42</td>\n",
       "      <td>...</td>\n",
       "      <td>10</td>\n",
       "      <td>10</td>\n",
       "      <td>10</td>\n",
       "      <td>16</td>\n",
       "      <td>6</td>\n",
       "      <td>22.0</td>\n",
       "      <td>0.00</td>\n",
       "      <td>0</td>\n",
       "      <td>NaN</td>\n",
       "      <td>202</td>\n",
       "    </tr>\n",
       "  </tbody>\n",
       "</table>\n",
       "<p>5 rows × 23 columns</p>\n",
       "</div>"
      ],
      "text/plain": [
       "                date  max_temp  mean_temp  min_temp  max_dew  mean_dew  \\\n",
       "date                                                                     \n",
       "2012-3-10 2012-03-10        56         40        24       24        20   \n",
       "2012-3-11 2012-03-11        67         49        30       43        31   \n",
       "2012-3-12 2012-03-12        71         62        53       59        55   \n",
       "2012-3-13 2012-03-13        76         63        50       57        53   \n",
       "2012-3-14 2012-03-14        80         62        44       58        52   \n",
       "\n",
       "           min_dew  max_humidity  mean_humidity  min_humidity   ...     \\\n",
       "date                                                            ...      \n",
       "2012-3-10       16            74             50            26   ...      \n",
       "2012-3-11       24            78             53            28   ...      \n",
       "2012-3-12       43            90             76            61   ...      \n",
       "2012-3-13       47            93             66            38   ...      \n",
       "2012-3-14       43            93             68            42   ...      \n",
       "\n",
       "           max_visibilty  mean_visibility  min_visibility  max_wind  \\\n",
       "date                                                                  \n",
       "2012-3-10             10               10              10        13   \n",
       "2012-3-11             10               10              10        22   \n",
       "2012-3-12             10               10               6        24   \n",
       "2012-3-13             10               10               4        16   \n",
       "2012-3-14             10               10              10        16   \n",
       "\n",
       "           mean_wind  min_wind  precipitation  cloud_cover  events wind_dir  \n",
       "date                                                                         \n",
       "2012-3-10          6      17.0           0.00            0     NaN      138  \n",
       "2012-3-11          7      32.0              T            1    Rain      163  \n",
       "2012-3-12         14      36.0           0.03            6    Rain      190  \n",
       "2012-3-13          5      24.0           0.00            0     NaN      242  \n",
       "2012-3-14          6      22.0           0.00            0     NaN      202  \n",
       "\n",
       "[5 rows x 23 columns]"
      ]
     },
     "execution_count": 41,
     "metadata": {},
     "output_type": "execute_result"
    }
   ],
   "source": [
    "data.date = data.date.apply(lambda d: datetime.strptime(d, \"%Y-%m-%d\"))\n",
    "data.head()"
   ]
  },
  {
   "cell_type": "code",
   "execution_count": 34,
   "metadata": {},
   "outputs": [
    {
     "data": {
      "text/plain": [
       "RangeIndex(start=0, stop=366, step=1)"
      ]
     },
     "execution_count": 34,
     "metadata": {},
     "output_type": "execute_result"
    }
   ],
   "source": [
    "data.index"
   ]
  },
  {
   "cell_type": "markdown",
   "metadata": {},
   "source": [
    "### Understanding And Modifying Index Information"
   ]
  },
  {
   "cell_type": "code",
   "execution_count": 46,
   "metadata": {},
   "outputs": [
    {
     "data": {
      "text/plain": [
       "RangeIndex(start=0, stop=366, step=1)"
      ]
     },
     "execution_count": 46,
     "metadata": {},
     "output_type": "execute_result"
    }
   ],
   "source": [
    "data.index"
   ]
  },
  {
   "cell_type": "markdown",
   "metadata": {},
   "source": [
    "### Query With Index"
   ]
  },
  {
   "cell_type": "code",
   "execution_count": 45,
   "metadata": {},
   "outputs": [
    {
     "name": "stderr",
     "output_type": "stream",
     "text": [
      "D:\\Softwares\\anaconda\\lib\\site-packages\\ipykernel_launcher.py:1: DeprecationWarning: \n",
      ".ix is deprecated. Please use\n",
      ".loc for label based indexing or\n",
      ".iloc for positional indexing\n",
      "\n",
      "See the documentation here:\n",
      "http://pandas.pydata.org/pandas-docs/stable/indexing.html#ix-indexer-is-deprecated\n",
      "  \"\"\"Entry point for launching an IPython kernel.\n"
     ]
    },
    {
     "data": {
      "text/plain": [
       "date               2012-03-10 00:00:00\n",
       "max_temp                            56\n",
       "mean_temp                           40\n",
       "min_temp                            24\n",
       "max_dew                             24\n",
       "mean_dew                            20\n",
       "min_dew                             16\n",
       "max_humidity                        74\n",
       "mean_humidity                       50\n",
       "min_humidity                        26\n",
       "max_pressure                     30.53\n",
       "mean_pressure                    30.45\n",
       "min_pressure                     30.34\n",
       "max_visibilty                       10\n",
       "mean_visibility                     10\n",
       "min_visibility                      10\n",
       "max_wind                            13\n",
       "mean_wind                            6\n",
       "min_wind                            17\n",
       "precipitation                     0.00\n",
       "cloud_cover                          0\n",
       "events                             NaN\n",
       "wind_dir                           138\n",
       "Name: 0, dtype: object"
      ]
     },
     "execution_count": 45,
     "metadata": {},
     "output_type": "execute_result"
    }
   ],
   "source": [
    "data.ix[0]"
   ]
  },
  {
   "cell_type": "code",
   "execution_count": 42,
   "metadata": {},
   "outputs": [],
   "source": [
    "#data.ix[0]"
   ]
  },
  {
   "cell_type": "markdown",
   "metadata": {},
   "source": [
    "### Modify Index With Date Column"
   ]
  },
  {
   "cell_type": "code",
   "execution_count": 42,
   "metadata": {},
   "outputs": [],
   "source": [
    "data.index = data.date"
   ]
  },
  {
   "cell_type": "code",
   "execution_count": 43,
   "metadata": {},
   "outputs": [
    {
     "data": {
      "text/plain": [
       "DatetimeIndex(['2012-03-10', '2012-03-11', '2012-03-12', '2012-03-13',\n",
       "               '2012-03-14', '2012-03-15', '2012-03-16', '2012-03-17',\n",
       "               '2012-03-18', '2012-03-19',\n",
       "               ...\n",
       "               '2013-03-01', '2013-03-02', '2013-03-03', '2013-03-04',\n",
       "               '2013-03-05', '2013-03-06', '2013-03-07', '2013-03-08',\n",
       "               '2013-03-09', '2013-03-10'],\n",
       "              dtype='datetime64[ns]', name='date', length=366, freq=None)"
      ]
     },
     "execution_count": 43,
     "metadata": {},
     "output_type": "execute_result"
    }
   ],
   "source": [
    "data.index"
   ]
  },
  {
   "cell_type": "markdown",
   "metadata": {},
   "source": [
    "### Search By Date Index "
   ]
  },
  {
   "cell_type": "code",
   "execution_count": 45,
   "metadata": {},
   "outputs": [
    {
     "data": {
      "text/plain": [
       "date               2012-08-26 00:00:00\n",
       "max_temp                            89\n",
       "mean_temp                           76\n",
       "min_temp                            62\n",
       "max_dew                             66\n",
       "mean_dew                            63\n",
       "min_dew                             61\n",
       "max_humidity                        87\n",
       "mean_humidity                       66\n",
       "min_humidity                        45\n",
       "max_pressure                     30.12\n",
       "mean_pressure                    30.05\n",
       "min_pressure                     29.98\n",
       "max_visibilty                       10\n",
       "mean_visibility                     10\n",
       "min_visibility                       7\n",
       "max_wind                            16\n",
       "mean_wind                            5\n",
       "min_wind                            21\n",
       "precipitation                     0.00\n",
       "cloud_cover                          1\n",
       "events                             NaN\n",
       "wind_dir                           197\n",
       "Name: 2012-08-26 00:00:00, dtype: object"
      ]
     },
     "execution_count": 45,
     "metadata": {},
     "output_type": "execute_result"
    }
   ],
   "source": [
    "data.loc[datetime(2012, 8, 26)]"
   ]
  },
  {
   "cell_type": "markdown",
   "metadata": {},
   "source": [
    "### Dropping Date Column "
   ]
  },
  {
   "cell_type": "code",
   "execution_count": 46,
   "metadata": {},
   "outputs": [
    {
     "data": {
      "text/plain": [
       "Index(['max_temp', 'mean_temp', 'min_temp', 'max_dew', 'mean_dew', 'min_dew',\n",
       "       'max_humidity', 'mean_humidity', 'min_humidity', 'max_pressure',\n",
       "       'mean_pressure', 'min_pressure', 'max_visibilty', 'mean_visibility',\n",
       "       'min_visibility', 'max_wind', 'mean_wind', 'min_wind', 'precipitation',\n",
       "       'cloud_cover', 'events', 'wind_dir'],\n",
       "      dtype='object')"
      ]
     },
     "execution_count": 46,
     "metadata": {},
     "output_type": "execute_result"
    }
   ],
   "source": [
    "data = data.drop([\"date\"],axis=1)\n",
    "data.columns"
   ]
  },
  {
   "cell_type": "markdown",
   "metadata": {},
   "source": [
    "# Analyzing Data"
   ]
  },
  {
   "cell_type": "markdown",
   "metadata": {},
   "source": [
    "### Handling Missing Values "
   ]
  },
  {
   "cell_type": "code",
   "execution_count": 51,
   "metadata": {},
   "outputs": [
    {
     "data": {
      "text/plain": [
       "<matplotlib.axes._subplots.AxesSubplot at 0x15eb1d964a8>"
      ]
     },
     "execution_count": 51,
     "metadata": {},
     "output_type": "execute_result"
    },
    {
     "data": {
      "image/png": "[encoded data removed]",
      "text/plain": [
       "<Figure size 1800x720 with 2 Axes>"
      ]
     },
     "metadata": {},
     "output_type": "display_data"
    }
   ],
   "source": [
    "import missingno as msno\n",
    "%matplotlib inline\n",
    "msno.matrix(data)"
   ]
  },
  {
   "cell_type": "code",
   "execution_count": 48,
   "metadata": {},
   "outputs": [
    {
     "data": {
      "text/plain": [
       "Rain                          69\n",
       "Rain-Thunderstorm             26\n",
       "Fog                           13\n",
       "Snow                          13\n",
       "Fog-Rain                      11\n",
       "Thunderstorm                   9\n",
       "Fog-Rain-Thunderstorm          8\n",
       "Fog-Snow                       5\n",
       "Fog-Rain-Snow                  3\n",
       "Rain-Snow                      3\n",
       "Fog-Rain-Snow-Thunderstorm     1\n",
       "Fog-Thunderstorm               1\n",
       "Name: events, dtype: int64"
      ]
     },
     "execution_count": 48,
     "metadata": {},
     "output_type": "execute_result"
    }
   ],
   "source": [
    "data.events.value_counts()"
   ]
  },
  {
   "cell_type": "markdown",
   "metadata": {},
   "source": [
    "### Filling Missing Values With Empty String"
   ]
  },
  {
   "cell_type": "code",
   "execution_count": 50,
   "metadata": {},
   "outputs": [
    {
     "data": {
      "text/plain": [
       "Unknown                       204\n",
       "Rain                           69\n",
       "Rain-Thunderstorm              26\n",
       "Fog                            13\n",
       "Snow                           13\n",
       "Fog-Rain                       11\n",
       "Thunderstorm                    9\n",
       "Fog-Rain-Thunderstorm           8\n",
       "Fog-Snow                        5\n",
       "Fog-Rain-Snow                   3\n",
       "Rain-Snow                       3\n",
       "Fog-Rain-Snow-Thunderstorm      1\n",
       "Fog-Thunderstorm                1\n",
       "Name: events, dtype: int64"
      ]
     },
     "execution_count": 50,
     "metadata": {},
     "output_type": "execute_result"
    }
   ],
   "source": [
    "data.events.value_counts()"
   ]
  },
  {
   "cell_type": "code",
   "execution_count": 49,
   "metadata": {},
   "outputs": [
    {
     "data": {
      "text/plain": [
       "date\n",
       "2012-03-10              Unknown\n",
       "2012-03-11                 Rain\n",
       "2012-03-12                 Rain\n",
       "2012-03-13              Unknown\n",
       "2012-03-14              Unknown\n",
       "2012-03-15    Rain-Thunderstorm\n",
       "2012-03-16              Unknown\n",
       "2012-03-17     Fog-Thunderstorm\n",
       "2012-03-18                 Rain\n",
       "2012-03-19              Unknown\n",
       "Name: events, dtype: object"
      ]
     },
     "execution_count": 49,
     "metadata": {},
     "output_type": "execute_result"
    }
   ],
   "source": [
    "data.events = data.events.fillna(\"Unknown\")\n",
    "data.events.head(10)"
   ]
  },
  {
   "cell_type": "markdown",
   "metadata": {},
   "source": [
    "### Filtering of Dataframe"
   ]
  },
  {
   "cell_type": "code",
   "execution_count": 53,
   "metadata": {},
   "outputs": [
    {
     "data": {
      "text/plain": [
       "True"
      ]
     },
     "execution_count": 53,
     "metadata": {},
     "output_type": "execute_result"
    }
   ],
   "source": [
    "a  = 1\n",
    "a==1"
   ]
  },
  {
   "cell_type": "code",
   "execution_count": 54,
   "metadata": {},
   "outputs": [
    {
     "data": {
      "text/html": [
       "<div>\n",
       "<style scoped>\n",
       "    .dataframe tbody tr th:only-of-type {\n",
       "        vertical-align: middle;\n",
       "    }\n",
       "\n",
       "    .dataframe tbody tr th {\n",
       "        vertical-align: top;\n",
       "    }\n",
       "\n",
       "    .dataframe thead th {\n",
       "        text-align: right;\n",
       "    }\n",
       "</style>\n",
       "<table border=\"1\" class=\"dataframe\">\n",
       "  <thead>\n",
       "    <tr style=\"text-align: right;\">\n",
       "      <th></th>\n",
       "      <th>a</th>\n",
       "      <th>b</th>\n",
       "    </tr>\n",
       "  </thead>\n",
       "  <tbody>\n",
       "    <tr>\n",
       "      <th>0</th>\n",
       "      <td>1</td>\n",
       "      <td>2</td>\n",
       "    </tr>\n",
       "    <tr>\n",
       "      <th>1</th>\n",
       "      <td>3</td>\n",
       "      <td>4</td>\n",
       "    </tr>\n",
       "  </tbody>\n",
       "</table>\n",
       "</div>"
      ],
      "text/plain": [
       "   a  b\n",
       "0  1  2\n",
       "1  3  4"
      ]
     },
     "execution_count": 54,
     "metadata": {},
     "output_type": "execute_result"
    }
   ],
   "source": [
    "pandas.DataFrame(data={\"a\":[1,3],\"b\":[2,4]})"
   ]
  },
  {
   "cell_type": "code",
   "execution_count": 55,
   "metadata": {},
   "outputs": [
    {
     "data": {
      "text/html": [
       "<div>\n",
       "<style scoped>\n",
       "    .dataframe tbody tr th:only-of-type {\n",
       "        vertical-align: middle;\n",
       "    }\n",
       "\n",
       "    .dataframe tbody tr th {\n",
       "        vertical-align: top;\n",
       "    }\n",
       "\n",
       "    .dataframe thead th {\n",
       "        text-align: right;\n",
       "    }\n",
       "</style>\n",
       "<table border=\"1\" class=\"dataframe\">\n",
       "  <thead>\n",
       "    <tr style=\"text-align: right;\">\n",
       "      <th></th>\n",
       "      <th>a</th>\n",
       "      <th>b</th>\n",
       "    </tr>\n",
       "  </thead>\n",
       "  <tbody>\n",
       "    <tr>\n",
       "      <th>0</th>\n",
       "      <td>1</td>\n",
       "      <td>2</td>\n",
       "    </tr>\n",
       "    <tr>\n",
       "      <th>1</th>\n",
       "      <td>3</td>\n",
       "      <td>4</td>\n",
       "    </tr>\n",
       "  </tbody>\n",
       "</table>\n",
       "</div>"
      ],
      "text/plain": [
       "   a  b\n",
       "0  1  2\n",
       "1  3  4"
      ]
     },
     "execution_count": 55,
     "metadata": {},
     "output_type": "execute_result"
    }
   ],
   "source": [
    "pandas.DataFrame(data=[{\"a\":1,\"b\":2},{\"a\":3,\"b\":4}])"
   ]
  },
  {
   "cell_type": "code",
   "execution_count": 54,
   "metadata": {},
   "outputs": [
    {
     "name": "stdout",
     "output_type": "stream",
     "text": [
      "(21, 22)\n"
     ]
    },
    {
     "data": {
      "text/plain": [
       "(7, 22)"
      ]
     },
     "execution_count": 54,
     "metadata": {},
     "output_type": "execute_result"
    }
   ],
   "source": [
    "data1 = data[data.max_temp <= 32]\n",
    "print (data1.shape)\n",
    "data2 = data[(data.max_temp <= 32) & (data.min_temp >= 20)]\n",
    "data2.shape"
   ]
  },
  {
   "cell_type": "code",
   "execution_count": 55,
   "metadata": {},
   "outputs": [
    {
     "data": {
      "text/html": [
       "<div>\n",
       "<style scoped>\n",
       "    .dataframe tbody tr th:only-of-type {\n",
       "        vertical-align: middle;\n",
       "    }\n",
       "\n",
       "    .dataframe tbody tr th {\n",
       "        vertical-align: top;\n",
       "    }\n",
       "\n",
       "    .dataframe thead th {\n",
       "        text-align: right;\n",
       "    }\n",
       "</style>\n",
       "<table border=\"1\" class=\"dataframe\">\n",
       "  <thead>\n",
       "    <tr style=\"text-align: right;\">\n",
       "      <th></th>\n",
       "      <th>max_temp</th>\n",
       "      <th>mean_temp</th>\n",
       "      <th>min_temp</th>\n",
       "      <th>max_dew</th>\n",
       "      <th>mean_dew</th>\n",
       "      <th>min_dew</th>\n",
       "      <th>max_humidity</th>\n",
       "      <th>mean_humidity</th>\n",
       "      <th>min_humidity</th>\n",
       "      <th>max_pressure</th>\n",
       "      <th>...</th>\n",
       "      <th>max_visibilty</th>\n",
       "      <th>mean_visibility</th>\n",
       "      <th>min_visibility</th>\n",
       "      <th>max_wind</th>\n",
       "      <th>mean_wind</th>\n",
       "      <th>min_wind</th>\n",
       "      <th>precipitation</th>\n",
       "      <th>cloud_cover</th>\n",
       "      <th>events</th>\n",
       "      <th>wind_dir</th>\n",
       "    </tr>\n",
       "    <tr>\n",
       "      <th>date</th>\n",
       "      <th></th>\n",
       "      <th></th>\n",
       "      <th></th>\n",
       "      <th></th>\n",
       "      <th></th>\n",
       "      <th></th>\n",
       "      <th></th>\n",
       "      <th></th>\n",
       "      <th></th>\n",
       "      <th></th>\n",
       "      <th></th>\n",
       "      <th></th>\n",
       "      <th></th>\n",
       "      <th></th>\n",
       "      <th></th>\n",
       "      <th></th>\n",
       "      <th></th>\n",
       "      <th></th>\n",
       "      <th></th>\n",
       "      <th></th>\n",
       "      <th></th>\n",
       "    </tr>\n",
       "  </thead>\n",
       "  <tbody>\n",
       "    <tr>\n",
       "      <th>2012-11-24</th>\n",
       "      <td>31</td>\n",
       "      <td>26</td>\n",
       "      <td>21</td>\n",
       "      <td>20</td>\n",
       "      <td>18</td>\n",
       "      <td>15</td>\n",
       "      <td>81</td>\n",
       "      <td>72</td>\n",
       "      <td>63</td>\n",
       "      <td>30.30</td>\n",
       "      <td>...</td>\n",
       "      <td>10</td>\n",
       "      <td>10</td>\n",
       "      <td>9</td>\n",
       "      <td>9</td>\n",
       "      <td>4</td>\n",
       "      <td>14.0</td>\n",
       "      <td>0.00</td>\n",
       "      <td>4</td>\n",
       "      <td>Unknown</td>\n",
       "      <td>270</td>\n",
       "    </tr>\n",
       "    <tr>\n",
       "      <th>2012-12-21</th>\n",
       "      <td>29</td>\n",
       "      <td>26</td>\n",
       "      <td>22</td>\n",
       "      <td>25</td>\n",
       "      <td>19</td>\n",
       "      <td>15</td>\n",
       "      <td>85</td>\n",
       "      <td>74</td>\n",
       "      <td>63</td>\n",
       "      <td>30.21</td>\n",
       "      <td>...</td>\n",
       "      <td>10</td>\n",
       "      <td>5</td>\n",
       "      <td>0</td>\n",
       "      <td>25</td>\n",
       "      <td>14</td>\n",
       "      <td>39.0</td>\n",
       "      <td>0.02</td>\n",
       "      <td>7</td>\n",
       "      <td>Fog-Snow</td>\n",
       "      <td>285</td>\n",
       "    </tr>\n",
       "    <tr>\n",
       "      <th>2012-12-29</th>\n",
       "      <td>32</td>\n",
       "      <td>28</td>\n",
       "      <td>23</td>\n",
       "      <td>28</td>\n",
       "      <td>25</td>\n",
       "      <td>16</td>\n",
       "      <td>92</td>\n",
       "      <td>80</td>\n",
       "      <td>68</td>\n",
       "      <td>30.29</td>\n",
       "      <td>...</td>\n",
       "      <td>10</td>\n",
       "      <td>3</td>\n",
       "      <td>0</td>\n",
       "      <td>18</td>\n",
       "      <td>9</td>\n",
       "      <td>29.0</td>\n",
       "      <td>0.20</td>\n",
       "      <td>8</td>\n",
       "      <td>Fog-Snow</td>\n",
       "      <td>308</td>\n",
       "    </tr>\n",
       "    <tr>\n",
       "      <th>2012-12-30</th>\n",
       "      <td>31</td>\n",
       "      <td>18</td>\n",
       "      <td>4</td>\n",
       "      <td>21</td>\n",
       "      <td>12</td>\n",
       "      <td>1</td>\n",
       "      <td>92</td>\n",
       "      <td>75</td>\n",
       "      <td>58</td>\n",
       "      <td>30.47</td>\n",
       "      <td>...</td>\n",
       "      <td>10</td>\n",
       "      <td>6</td>\n",
       "      <td>0</td>\n",
       "      <td>15</td>\n",
       "      <td>6</td>\n",
       "      <td>21.0</td>\n",
       "      <td>0.00</td>\n",
       "      <td>1</td>\n",
       "      <td>Fog</td>\n",
       "      <td>220</td>\n",
       "    </tr>\n",
       "    <tr>\n",
       "      <th>2013-01-01</th>\n",
       "      <td>32</td>\n",
       "      <td>26</td>\n",
       "      <td>20</td>\n",
       "      <td>31</td>\n",
       "      <td>25</td>\n",
       "      <td>16</td>\n",
       "      <td>92</td>\n",
       "      <td>83</td>\n",
       "      <td>74</td>\n",
       "      <td>30.20</td>\n",
       "      <td>...</td>\n",
       "      <td>9</td>\n",
       "      <td>5</td>\n",
       "      <td>2</td>\n",
       "      <td>14</td>\n",
       "      <td>5</td>\n",
       "      <td>15.0</td>\n",
       "      <td>T</td>\n",
       "      <td>8</td>\n",
       "      <td>Unknown</td>\n",
       "      <td>353</td>\n",
       "    </tr>\n",
       "  </tbody>\n",
       "</table>\n",
       "<p>5 rows × 22 columns</p>\n",
       "</div>"
      ],
      "text/plain": [
       "            max_temp  mean_temp  min_temp  max_dew  mean_dew  min_dew  \\\n",
       "date                                                                    \n",
       "2012-11-24        31         26        21       20        18       15   \n",
       "2012-12-21        29         26        22       25        19       15   \n",
       "2012-12-29        32         28        23       28        25       16   \n",
       "2012-12-30        31         18         4       21        12        1   \n",
       "2013-01-01        32         26        20       31        25       16   \n",
       "\n",
       "            max_humidity  mean_humidity  min_humidity  max_pressure    ...     \\\n",
       "date                                                                   ...      \n",
       "2012-11-24            81             72            63         30.30    ...      \n",
       "2012-12-21            85             74            63         30.21    ...      \n",
       "2012-12-29            92             80            68         30.29    ...      \n",
       "2012-12-30            92             75            58         30.47    ...      \n",
       "2013-01-01            92             83            74         30.20    ...      \n",
       "\n",
       "            max_visibilty  mean_visibility  min_visibility  max_wind  \\\n",
       "date                                                                   \n",
       "2012-11-24             10               10               9         9   \n",
       "2012-12-21             10                5               0        25   \n",
       "2012-12-29             10                3               0        18   \n",
       "2012-12-30             10                6               0        15   \n",
       "2013-01-01              9                5               2        14   \n",
       "\n",
       "            mean_wind  min_wind  precipitation  cloud_cover    events  \\\n",
       "date                                                                    \n",
       "2012-11-24          4      14.0           0.00            4   Unknown   \n",
       "2012-12-21         14      39.0           0.02            7  Fog-Snow   \n",
       "2012-12-29          9      29.0           0.20            8  Fog-Snow   \n",
       "2012-12-30          6      21.0           0.00            1       Fog   \n",
       "2013-01-01          5      15.0              T            8   Unknown   \n",
       "\n",
       "            wind_dir  \n",
       "date                  \n",
       "2012-11-24       270  \n",
       "2012-12-21       285  \n",
       "2012-12-29       308  \n",
       "2012-12-30       220  \n",
       "2013-01-01       353  \n",
       "\n",
       "[5 rows x 22 columns]"
      ]
     },
     "execution_count": 55,
     "metadata": {},
     "output_type": "execute_result"
    }
   ],
   "source": [
    "data1.head()"
   ]
  },
  {
   "cell_type": "code",
   "execution_count": 55,
   "metadata": {},
   "outputs": [
    {
     "data": {
      "text/plain": [
       "49.549180327868854"
      ]
     },
     "execution_count": 55,
     "metadata": {},
     "output_type": "execute_result"
    }
   ],
   "source": [
    "data.max_dew.mean()"
   ]
  },
  {
   "cell_type": "markdown",
   "metadata": {},
   "source": [
    "### Grouping Dataframe"
   ]
  },
  {
   "cell_type": "code",
   "execution_count": 58,
   "metadata": {},
   "outputs": [
    {
     "data": {
      "text/plain": [
       "pandas.core.frame.DataFrame"
      ]
     },
     "execution_count": 58,
     "metadata": {},
     "output_type": "execute_result"
    }
   ],
   "source": [
    "type(data.groupby([\"events\"])[\"max_temp\",\"min_temp\"].mean())"
   ]
  },
  {
   "cell_type": "code",
   "execution_count": 58,
   "metadata": {},
   "outputs": [],
   "source": [
    "data3 = pandas.DataFrame(data.groupby([\"events\"])[\"max_temp\"].mean()).reset_index()"
   ]
  },
  {
   "cell_type": "markdown",
   "metadata": {},
   "source": [
    "### Groupby Events And Find Mean"
   ]
  },
  {
   "cell_type": "code",
   "execution_count": 54,
   "metadata": {},
   "outputs": [
    {
     "data": {
      "text/plain": [
       "events\n",
       "Fog                           67.153846\n",
       "Fog-Rain                      58.636364\n",
       "Fog-Rain-Snow                 43.333333\n",
       "Fog-Rain-Snow-Thunderstorm    57.000000\n",
       "Fog-Rain-Thunderstorm         80.125000\n",
       "Fog-Snow                      32.200000\n",
       "Fog-Thunderstorm              78.000000\n",
       "Rain                          64.797101\n",
       "Rain-Snow                     50.666667\n",
       "Rain-Thunderstorm             80.653846\n",
       "Snow                          32.153846\n",
       "Thunderstorm                  93.888889\n",
       "Unknown                       68.049020\n",
       "Name: max_temp, dtype: float64"
      ]
     },
     "execution_count": 54,
     "metadata": {},
     "output_type": "execute_result"
    }
   ],
   "source": [
    "data.groupby([\"events\"])[\"max_temp\"].mean()"
   ]
  },
  {
   "cell_type": "code",
   "execution_count": 59,
   "metadata": {},
   "outputs": [
    {
     "data": {
      "text/html": [
       "<div>\n",
       "<style scoped>\n",
       "    .dataframe tbody tr th:only-of-type {\n",
       "        vertical-align: middle;\n",
       "    }\n",
       "\n",
       "    .dataframe tbody tr th {\n",
       "        vertical-align: top;\n",
       "    }\n",
       "\n",
       "    .dataframe thead th {\n",
       "        text-align: right;\n",
       "    }\n",
       "</style>\n",
       "<table border=\"1\" class=\"dataframe\">\n",
       "  <thead>\n",
       "    <tr style=\"text-align: right;\">\n",
       "      <th></th>\n",
       "      <th>events</th>\n",
       "      <th>max_temp</th>\n",
       "    </tr>\n",
       "  </thead>\n",
       "  <tbody>\n",
       "    <tr>\n",
       "      <th>0</th>\n",
       "      <td>Fog</td>\n",
       "      <td>67.153846</td>\n",
       "    </tr>\n",
       "    <tr>\n",
       "      <th>1</th>\n",
       "      <td>Fog-Rain</td>\n",
       "      <td>58.636364</td>\n",
       "    </tr>\n",
       "    <tr>\n",
       "      <th>2</th>\n",
       "      <td>Fog-Rain-Snow</td>\n",
       "      <td>43.333333</td>\n",
       "    </tr>\n",
       "    <tr>\n",
       "      <th>3</th>\n",
       "      <td>Fog-Rain-Snow-Thunderstorm</td>\n",
       "      <td>57.000000</td>\n",
       "    </tr>\n",
       "    <tr>\n",
       "      <th>4</th>\n",
       "      <td>Fog-Rain-Thunderstorm</td>\n",
       "      <td>80.125000</td>\n",
       "    </tr>\n",
       "    <tr>\n",
       "      <th>5</th>\n",
       "      <td>Fog-Snow</td>\n",
       "      <td>32.200000</td>\n",
       "    </tr>\n",
       "    <tr>\n",
       "      <th>6</th>\n",
       "      <td>Fog-Thunderstorm</td>\n",
       "      <td>78.000000</td>\n",
       "    </tr>\n",
       "    <tr>\n",
       "      <th>7</th>\n",
       "      <td>Rain</td>\n",
       "      <td>64.797101</td>\n",
       "    </tr>\n",
       "    <tr>\n",
       "      <th>8</th>\n",
       "      <td>Rain-Snow</td>\n",
       "      <td>50.666667</td>\n",
       "    </tr>\n",
       "    <tr>\n",
       "      <th>9</th>\n",
       "      <td>Rain-Thunderstorm</td>\n",
       "      <td>80.653846</td>\n",
       "    </tr>\n",
       "    <tr>\n",
       "      <th>10</th>\n",
       "      <td>Snow</td>\n",
       "      <td>32.153846</td>\n",
       "    </tr>\n",
       "    <tr>\n",
       "      <th>11</th>\n",
       "      <td>Thunderstorm</td>\n",
       "      <td>93.888889</td>\n",
       "    </tr>\n",
       "    <tr>\n",
       "      <th>12</th>\n",
       "      <td>Unknown</td>\n",
       "      <td>68.049020</td>\n",
       "    </tr>\n",
       "  </tbody>\n",
       "</table>\n",
       "</div>"
      ],
      "text/plain": [
       "                        events   max_temp\n",
       "0                          Fog  67.153846\n",
       "1                     Fog-Rain  58.636364\n",
       "2                Fog-Rain-Snow  43.333333\n",
       "3   Fog-Rain-Snow-Thunderstorm  57.000000\n",
       "4        Fog-Rain-Thunderstorm  80.125000\n",
       "5                     Fog-Snow  32.200000\n",
       "6             Fog-Thunderstorm  78.000000\n",
       "7                         Rain  64.797101\n",
       "8                    Rain-Snow  50.666667\n",
       "9            Rain-Thunderstorm  80.653846\n",
       "10                        Snow  32.153846\n",
       "11                Thunderstorm  93.888889\n",
       "12                     Unknown  68.049020"
      ]
     },
     "execution_count": 59,
     "metadata": {},
     "output_type": "execute_result"
    }
   ],
   "source": [
    "pandas.DataFrame(data.groupby([\"events\"])[\"max_temp\"].mean()).reset_index()"
   ]
  },
  {
   "cell_type": "markdown",
   "metadata": {},
   "source": [
    "### Group By Multiple Columns"
   ]
  },
  {
   "cell_type": "code",
   "execution_count": 59,
   "metadata": {},
   "outputs": [
    {
     "data": {
      "text/plain": [
       "pandas.core.series.Series"
      ]
     },
     "execution_count": 59,
     "metadata": {},
     "output_type": "execute_result"
    }
   ],
   "source": [
    "data.groupby([\"events\",\"cloud_cover\"])[\"max_temp\"].mean()"
   ]
  },
  {
   "cell_type": "code",
   "execution_count": 55,
   "metadata": {},
   "outputs": [
    {
     "data": {
      "text/html": [
       "<div>\n",
       "<style scoped>\n",
       "    .dataframe tbody tr th:only-of-type {\n",
       "        vertical-align: middle;\n",
       "    }\n",
       "\n",
       "    .dataframe tbody tr th {\n",
       "        vertical-align: top;\n",
       "    }\n",
       "\n",
       "    .dataframe thead th {\n",
       "        text-align: right;\n",
       "    }\n",
       "</style>\n",
       "<table border=\"1\" class=\"dataframe\">\n",
       "  <thead>\n",
       "    <tr style=\"text-align: right;\">\n",
       "      <th></th>\n",
       "      <th>events</th>\n",
       "      <th>cloud_cover</th>\n",
       "      <th>max_temp</th>\n",
       "    </tr>\n",
       "  </thead>\n",
       "  <tbody>\n",
       "    <tr>\n",
       "      <th>0</th>\n",
       "      <td>Fog</td>\n",
       "      <td>0</td>\n",
       "      <td>61.000000</td>\n",
       "    </tr>\n",
       "    <tr>\n",
       "      <th>1</th>\n",
       "      <td>Fog</td>\n",
       "      <td>1</td>\n",
       "      <td>60.000000</td>\n",
       "    </tr>\n",
       "    <tr>\n",
       "      <th>2</th>\n",
       "      <td>Fog</td>\n",
       "      <td>2</td>\n",
       "      <td>86.000000</td>\n",
       "    </tr>\n",
       "    <tr>\n",
       "      <th>3</th>\n",
       "      <td>Fog</td>\n",
       "      <td>3</td>\n",
       "      <td>61.500000</td>\n",
       "    </tr>\n",
       "    <tr>\n",
       "      <th>4</th>\n",
       "      <td>Fog</td>\n",
       "      <td>4</td>\n",
       "      <td>80.666667</td>\n",
       "    </tr>\n",
       "    <tr>\n",
       "      <th>5</th>\n",
       "      <td>Fog-Rain</td>\n",
       "      <td>1</td>\n",
       "      <td>64.000000</td>\n",
       "    </tr>\n",
       "    <tr>\n",
       "      <th>6</th>\n",
       "      <td>Fog-Rain</td>\n",
       "      <td>4</td>\n",
       "      <td>69.500000</td>\n",
       "    </tr>\n",
       "    <tr>\n",
       "      <th>7</th>\n",
       "      <td>Fog-Rain</td>\n",
       "      <td>5</td>\n",
       "      <td>65.000000</td>\n",
       "    </tr>\n",
       "    <tr>\n",
       "      <th>8</th>\n",
       "      <td>Fog-Rain</td>\n",
       "      <td>6</td>\n",
       "      <td>70.500000</td>\n",
       "    </tr>\n",
       "    <tr>\n",
       "      <th>9</th>\n",
       "      <td>Fog-Rain</td>\n",
       "      <td>7</td>\n",
       "      <td>40.000000</td>\n",
       "    </tr>\n",
       "    <tr>\n",
       "      <th>10</th>\n",
       "      <td>Fog-Rain</td>\n",
       "      <td>8</td>\n",
       "      <td>49.000000</td>\n",
       "    </tr>\n",
       "    <tr>\n",
       "      <th>11</th>\n",
       "      <td>Fog-Rain-Snow</td>\n",
       "      <td>5</td>\n",
       "      <td>33.000000</td>\n",
       "    </tr>\n",
       "    <tr>\n",
       "      <th>12</th>\n",
       "      <td>Fog-Rain-Snow</td>\n",
       "      <td>6</td>\n",
       "      <td>57.000000</td>\n",
       "    </tr>\n",
       "    <tr>\n",
       "      <th>13</th>\n",
       "      <td>Fog-Rain-Snow</td>\n",
       "      <td>8</td>\n",
       "      <td>40.000000</td>\n",
       "    </tr>\n",
       "    <tr>\n",
       "      <th>14</th>\n",
       "      <td>Fog-Rain-Snow-Thunderstorm</td>\n",
       "      <td>8</td>\n",
       "      <td>57.000000</td>\n",
       "    </tr>\n",
       "    <tr>\n",
       "      <th>15</th>\n",
       "      <td>Fog-Rain-Thunderstorm</td>\n",
       "      <td>3</td>\n",
       "      <td>86.666667</td>\n",
       "    </tr>\n",
       "    <tr>\n",
       "      <th>16</th>\n",
       "      <td>Fog-Rain-Thunderstorm</td>\n",
       "      <td>4</td>\n",
       "      <td>79.500000</td>\n",
       "    </tr>\n",
       "    <tr>\n",
       "      <th>17</th>\n",
       "      <td>Fog-Rain-Thunderstorm</td>\n",
       "      <td>6</td>\n",
       "      <td>74.500000</td>\n",
       "    </tr>\n",
       "    <tr>\n",
       "      <th>18</th>\n",
       "      <td>Fog-Rain-Thunderstorm</td>\n",
       "      <td>7</td>\n",
       "      <td>73.000000</td>\n",
       "    </tr>\n",
       "    <tr>\n",
       "      <th>19</th>\n",
       "      <td>Fog-Snow</td>\n",
       "      <td>7</td>\n",
       "      <td>32.000000</td>\n",
       "    </tr>\n",
       "    <tr>\n",
       "      <th>20</th>\n",
       "      <td>Fog-Snow</td>\n",
       "      <td>8</td>\n",
       "      <td>32.500000</td>\n",
       "    </tr>\n",
       "    <tr>\n",
       "      <th>21</th>\n",
       "      <td>Fog-Thunderstorm</td>\n",
       "      <td>3</td>\n",
       "      <td>78.000000</td>\n",
       "    </tr>\n",
       "    <tr>\n",
       "      <th>22</th>\n",
       "      <td>Rain</td>\n",
       "      <td>0</td>\n",
       "      <td>69.500000</td>\n",
       "    </tr>\n",
       "    <tr>\n",
       "      <th>23</th>\n",
       "      <td>Rain</td>\n",
       "      <td>1</td>\n",
       "      <td>81.750000</td>\n",
       "    </tr>\n",
       "    <tr>\n",
       "      <th>24</th>\n",
       "      <td>Rain</td>\n",
       "      <td>2</td>\n",
       "      <td>68.800000</td>\n",
       "    </tr>\n",
       "    <tr>\n",
       "      <th>25</th>\n",
       "      <td>Rain</td>\n",
       "      <td>3</td>\n",
       "      <td>70.777778</td>\n",
       "    </tr>\n",
       "    <tr>\n",
       "      <th>26</th>\n",
       "      <td>Rain</td>\n",
       "      <td>4</td>\n",
       "      <td>62.500000</td>\n",
       "    </tr>\n",
       "    <tr>\n",
       "      <th>27</th>\n",
       "      <td>Rain</td>\n",
       "      <td>5</td>\n",
       "      <td>65.307692</td>\n",
       "    </tr>\n",
       "    <tr>\n",
       "      <th>28</th>\n",
       "      <td>Rain</td>\n",
       "      <td>6</td>\n",
       "      <td>63.444444</td>\n",
       "    </tr>\n",
       "    <tr>\n",
       "      <th>29</th>\n",
       "      <td>Rain</td>\n",
       "      <td>7</td>\n",
       "      <td>55.833333</td>\n",
       "    </tr>\n",
       "    <tr>\n",
       "      <th>30</th>\n",
       "      <td>Rain</td>\n",
       "      <td>8</td>\n",
       "      <td>58.545455</td>\n",
       "    </tr>\n",
       "    <tr>\n",
       "      <th>31</th>\n",
       "      <td>Rain-Snow</td>\n",
       "      <td>8</td>\n",
       "      <td>50.666667</td>\n",
       "    </tr>\n",
       "    <tr>\n",
       "      <th>32</th>\n",
       "      <td>Rain-Thunderstorm</td>\n",
       "      <td>1</td>\n",
       "      <td>94.500000</td>\n",
       "    </tr>\n",
       "    <tr>\n",
       "      <th>33</th>\n",
       "      <td>Rain-Thunderstorm</td>\n",
       "      <td>2</td>\n",
       "      <td>86.750000</td>\n",
       "    </tr>\n",
       "    <tr>\n",
       "      <th>34</th>\n",
       "      <td>Rain-Thunderstorm</td>\n",
       "      <td>3</td>\n",
       "      <td>92.250000</td>\n",
       "    </tr>\n",
       "    <tr>\n",
       "      <th>35</th>\n",
       "      <td>Rain-Thunderstorm</td>\n",
       "      <td>4</td>\n",
       "      <td>77.666667</td>\n",
       "    </tr>\n",
       "    <tr>\n",
       "      <th>36</th>\n",
       "      <td>Rain-Thunderstorm</td>\n",
       "      <td>5</td>\n",
       "      <td>78.333333</td>\n",
       "    </tr>\n",
       "    <tr>\n",
       "      <th>37</th>\n",
       "      <td>Rain-Thunderstorm</td>\n",
       "      <td>6</td>\n",
       "      <td>72.000000</td>\n",
       "    </tr>\n",
       "    <tr>\n",
       "      <th>38</th>\n",
       "      <td>Rain-Thunderstorm</td>\n",
       "      <td>7</td>\n",
       "      <td>67.666667</td>\n",
       "    </tr>\n",
       "    <tr>\n",
       "      <th>39</th>\n",
       "      <td>Snow</td>\n",
       "      <td>2</td>\n",
       "      <td>26.000000</td>\n",
       "    </tr>\n",
       "    <tr>\n",
       "      <th>40</th>\n",
       "      <td>Snow</td>\n",
       "      <td>3</td>\n",
       "      <td>37.000000</td>\n",
       "    </tr>\n",
       "    <tr>\n",
       "      <th>41</th>\n",
       "      <td>Snow</td>\n",
       "      <td>4</td>\n",
       "      <td>39.000000</td>\n",
       "    </tr>\n",
       "    <tr>\n",
       "      <th>42</th>\n",
       "      <td>Snow</td>\n",
       "      <td>5</td>\n",
       "      <td>28.000000</td>\n",
       "    </tr>\n",
       "    <tr>\n",
       "      <th>43</th>\n",
       "      <td>Snow</td>\n",
       "      <td>6</td>\n",
       "      <td>30.000000</td>\n",
       "    </tr>\n",
       "    <tr>\n",
       "      <th>44</th>\n",
       "      <td>Snow</td>\n",
       "      <td>7</td>\n",
       "      <td>27.000000</td>\n",
       "    </tr>\n",
       "    <tr>\n",
       "      <th>45</th>\n",
       "      <td>Snow</td>\n",
       "      <td>8</td>\n",
       "      <td>33.833333</td>\n",
       "    </tr>\n",
       "    <tr>\n",
       "      <th>46</th>\n",
       "      <td>Thunderstorm</td>\n",
       "      <td>0</td>\n",
       "      <td>95.000000</td>\n",
       "    </tr>\n",
       "    <tr>\n",
       "      <th>47</th>\n",
       "      <td>Thunderstorm</td>\n",
       "      <td>1</td>\n",
       "      <td>95.333333</td>\n",
       "    </tr>\n",
       "    <tr>\n",
       "      <th>48</th>\n",
       "      <td>Thunderstorm</td>\n",
       "      <td>2</td>\n",
       "      <td>89.000000</td>\n",
       "    </tr>\n",
       "    <tr>\n",
       "      <th>49</th>\n",
       "      <td>Unknown</td>\n",
       "      <td>0</td>\n",
       "      <td>74.202020</td>\n",
       "    </tr>\n",
       "    <tr>\n",
       "      <th>50</th>\n",
       "      <td>Unknown</td>\n",
       "      <td>1</td>\n",
       "      <td>70.942857</td>\n",
       "    </tr>\n",
       "    <tr>\n",
       "      <th>51</th>\n",
       "      <td>Unknown</td>\n",
       "      <td>2</td>\n",
       "      <td>68.150000</td>\n",
       "    </tr>\n",
       "    <tr>\n",
       "      <th>52</th>\n",
       "      <td>Unknown</td>\n",
       "      <td>3</td>\n",
       "      <td>58.750000</td>\n",
       "    </tr>\n",
       "    <tr>\n",
       "      <th>53</th>\n",
       "      <td>Unknown</td>\n",
       "      <td>4</td>\n",
       "      <td>50.312500</td>\n",
       "    </tr>\n",
       "    <tr>\n",
       "      <th>54</th>\n",
       "      <td>Unknown</td>\n",
       "      <td>5</td>\n",
       "      <td>53.777778</td>\n",
       "    </tr>\n",
       "    <tr>\n",
       "      <th>55</th>\n",
       "      <td>Unknown</td>\n",
       "      <td>6</td>\n",
       "      <td>69.000000</td>\n",
       "    </tr>\n",
       "    <tr>\n",
       "      <th>56</th>\n",
       "      <td>Unknown</td>\n",
       "      <td>7</td>\n",
       "      <td>61.200000</td>\n",
       "    </tr>\n",
       "    <tr>\n",
       "      <th>57</th>\n",
       "      <td>Unknown</td>\n",
       "      <td>8</td>\n",
       "      <td>36.600000</td>\n",
       "    </tr>\n",
       "  </tbody>\n",
       "</table>\n",
       "</div>"
      ],
      "text/plain": [
       "                        events  cloud_cover   max_temp\n",
       "0                          Fog            0  61.000000\n",
       "1                          Fog            1  60.000000\n",
       "2                          Fog            2  86.000000\n",
       "3                          Fog            3  61.500000\n",
       "4                          Fog            4  80.666667\n",
       "5                     Fog-Rain            1  64.000000\n",
       "6                     Fog-Rain            4  69.500000\n",
       "7                     Fog-Rain            5  65.000000\n",
       "8                     Fog-Rain            6  70.500000\n",
       "9                     Fog-Rain            7  40.000000\n",
       "10                    Fog-Rain            8  49.000000\n",
       "11               Fog-Rain-Snow            5  33.000000\n",
       "12               Fog-Rain-Snow            6  57.000000\n",
       "13               Fog-Rain-Snow            8  40.000000\n",
       "14  Fog-Rain-Snow-Thunderstorm            8  57.000000\n",
       "15       Fog-Rain-Thunderstorm            3  86.666667\n",
       "16       Fog-Rain-Thunderstorm            4  79.500000\n",
       "17       Fog-Rain-Thunderstorm            6  74.500000\n",
       "18       Fog-Rain-Thunderstorm            7  73.000000\n",
       "19                    Fog-Snow            7  32.000000\n",
       "20                    Fog-Snow            8  32.500000\n",
       "21            Fog-Thunderstorm            3  78.000000\n",
       "22                        Rain            0  69.500000\n",
       "23                        Rain            1  81.750000\n",
       "24                        Rain            2  68.800000\n",
       "25                        Rain            3  70.777778\n",
       "26                        Rain            4  62.500000\n",
       "27                        Rain            5  65.307692\n",
       "28                        Rain            6  63.444444\n",
       "29                        Rain            7  55.833333\n",
       "30                        Rain            8  58.545455\n",
       "31                   Rain-Snow            8  50.666667\n",
       "32           Rain-Thunderstorm            1  94.500000\n",
       "33           Rain-Thunderstorm            2  86.750000\n",
       "34           Rain-Thunderstorm            3  92.250000\n",
       "35           Rain-Thunderstorm            4  77.666667\n",
       "36           Rain-Thunderstorm            5  78.333333\n",
       "37           Rain-Thunderstorm            6  72.000000\n",
       "38           Rain-Thunderstorm            7  67.666667\n",
       "39                        Snow            2  26.000000\n",
       "40                        Snow            3  37.000000\n",
       "41                        Snow            4  39.000000\n",
       "42                        Snow            5  28.000000\n",
       "43                        Snow            6  30.000000\n",
       "44                        Snow            7  27.000000\n",
       "45                        Snow            8  33.833333\n",
       "46                Thunderstorm            0  95.000000\n",
       "47                Thunderstorm            1  95.333333\n",
       "48                Thunderstorm            2  89.000000\n",
       "49                     Unknown            0  74.202020\n",
       "50                     Unknown            1  70.942857\n",
       "51                     Unknown            2  68.150000\n",
       "52                     Unknown            3  58.750000\n",
       "53                     Unknown            4  50.312500\n",
       "54                     Unknown            5  53.777778\n",
       "55                     Unknown            6  69.000000\n",
       "56                     Unknown            7  61.200000\n",
       "57                     Unknown            8  36.600000"
      ]
     },
     "execution_count": 55,
     "metadata": {},
     "output_type": "execute_result"
    }
   ],
   "source": [
    "pandas.DataFrame(data.groupby([\"events\",\"cloud_cover\"])[\"max_temp\"].mean()).reset_index()"
   ]
  },
  {
   "cell_type": "code",
   "execution_count": 61,
   "metadata": {},
   "outputs": [
    {
     "data": {
      "text/plain": [
       "True"
      ]
     },
     "execution_count": 61,
     "metadata": {},
     "output_type": "execute_result"
    }
   ],
   "source": [
    "a = \"vivek JPA\"\n",
    "\"vivek\" in a"
   ]
  },
  {
   "cell_type": "markdown",
   "metadata": {},
   "source": [
    "### Creating New Columns"
   ]
  },
  {
   "cell_type": "code",
   "execution_count": 63,
   "metadata": {},
   "outputs": [],
   "source": [
    "data[\"avg_temp\"] = (data.max_temp + data.min_temp)/2"
   ]
  },
  {
   "cell_type": "code",
   "execution_count": 65,
   "metadata": {},
   "outputs": [
    {
     "data": {
      "text/plain": [
       "False    245\n",
       "True     121\n",
       "Name: rain, dtype: int64"
      ]
     },
     "execution_count": 65,
     "metadata": {},
     "output_type": "execute_result"
    }
   ],
   "source": [
    "    \n",
    "data[\"rain\"] = data.events.apply(lambda a: \"Rain\" in a)\n",
    "data.head()\n",
    "data.rain.value_counts()"
   ]
  },
  {
   "cell_type": "code",
   "execution_count": 60,
   "metadata": {},
   "outputs": [
    {
     "data": {
      "text/html": [
       "<div>\n",
       "<style scoped>\n",
       "    .dataframe tbody tr th:only-of-type {\n",
       "        vertical-align: middle;\n",
       "    }\n",
       "\n",
       "    .dataframe tbody tr th {\n",
       "        vertical-align: top;\n",
       "    }\n",
       "\n",
       "    .dataframe thead th {\n",
       "        text-align: right;\n",
       "    }\n",
       "</style>\n",
       "<table border=\"1\" class=\"dataframe\">\n",
       "  <thead>\n",
       "    <tr style=\"text-align: right;\">\n",
       "      <th></th>\n",
       "      <th>max_temp</th>\n",
       "      <th>mean_temp</th>\n",
       "      <th>min_temp</th>\n",
       "      <th>max_dew</th>\n",
       "      <th>mean_dew</th>\n",
       "      <th>min_dew</th>\n",
       "      <th>max_humidity</th>\n",
       "      <th>mean_humidity</th>\n",
       "      <th>min_humidity</th>\n",
       "      <th>max_pressure</th>\n",
       "      <th>...</th>\n",
       "      <th>mean_visibility</th>\n",
       "      <th>min_visibility</th>\n",
       "      <th>max_wind</th>\n",
       "      <th>mean_wind</th>\n",
       "      <th>min_wind</th>\n",
       "      <th>precipitation</th>\n",
       "      <th>cloud_cover</th>\n",
       "      <th>events</th>\n",
       "      <th>wind_dir</th>\n",
       "      <th>avg_temp</th>\n",
       "    </tr>\n",
       "    <tr>\n",
       "      <th>date</th>\n",
       "      <th></th>\n",
       "      <th></th>\n",
       "      <th></th>\n",
       "      <th></th>\n",
       "      <th></th>\n",
       "      <th></th>\n",
       "      <th></th>\n",
       "      <th></th>\n",
       "      <th></th>\n",
       "      <th></th>\n",
       "      <th></th>\n",
       "      <th></th>\n",
       "      <th></th>\n",
       "      <th></th>\n",
       "      <th></th>\n",
       "      <th></th>\n",
       "      <th></th>\n",
       "      <th></th>\n",
       "      <th></th>\n",
       "      <th></th>\n",
       "      <th></th>\n",
       "    </tr>\n",
       "  </thead>\n",
       "  <tbody>\n",
       "    <tr>\n",
       "      <th>2012-03-10</th>\n",
       "      <td>56</td>\n",
       "      <td>40</td>\n",
       "      <td>24</td>\n",
       "      <td>24</td>\n",
       "      <td>20</td>\n",
       "      <td>16</td>\n",
       "      <td>74</td>\n",
       "      <td>50</td>\n",
       "      <td>26</td>\n",
       "      <td>30.53</td>\n",
       "      <td>...</td>\n",
       "      <td>10</td>\n",
       "      <td>10</td>\n",
       "      <td>13</td>\n",
       "      <td>6</td>\n",
       "      <td>17.0</td>\n",
       "      <td>0.00</td>\n",
       "      <td>0</td>\n",
       "      <td>Unknown</td>\n",
       "      <td>138</td>\n",
       "      <td>40.0</td>\n",
       "    </tr>\n",
       "    <tr>\n",
       "      <th>2012-03-11</th>\n",
       "      <td>67</td>\n",
       "      <td>49</td>\n",
       "      <td>30</td>\n",
       "      <td>43</td>\n",
       "      <td>31</td>\n",
       "      <td>24</td>\n",
       "      <td>78</td>\n",
       "      <td>53</td>\n",
       "      <td>28</td>\n",
       "      <td>30.37</td>\n",
       "      <td>...</td>\n",
       "      <td>10</td>\n",
       "      <td>10</td>\n",
       "      <td>22</td>\n",
       "      <td>7</td>\n",
       "      <td>32.0</td>\n",
       "      <td>T</td>\n",
       "      <td>1</td>\n",
       "      <td>Rain</td>\n",
       "      <td>163</td>\n",
       "      <td>48.5</td>\n",
       "    </tr>\n",
       "    <tr>\n",
       "      <th>2012-03-12</th>\n",
       "      <td>71</td>\n",
       "      <td>62</td>\n",
       "      <td>53</td>\n",
       "      <td>59</td>\n",
       "      <td>55</td>\n",
       "      <td>43</td>\n",
       "      <td>90</td>\n",
       "      <td>76</td>\n",
       "      <td>61</td>\n",
       "      <td>30.13</td>\n",
       "      <td>...</td>\n",
       "      <td>10</td>\n",
       "      <td>6</td>\n",
       "      <td>24</td>\n",
       "      <td>14</td>\n",
       "      <td>36.0</td>\n",
       "      <td>0.03</td>\n",
       "      <td>6</td>\n",
       "      <td>Rain</td>\n",
       "      <td>190</td>\n",
       "      <td>62.0</td>\n",
       "    </tr>\n",
       "    <tr>\n",
       "      <th>2012-03-13</th>\n",
       "      <td>76</td>\n",
       "      <td>63</td>\n",
       "      <td>50</td>\n",
       "      <td>57</td>\n",
       "      <td>53</td>\n",
       "      <td>47</td>\n",
       "      <td>93</td>\n",
       "      <td>66</td>\n",
       "      <td>38</td>\n",
       "      <td>30.12</td>\n",
       "      <td>...</td>\n",
       "      <td>10</td>\n",
       "      <td>4</td>\n",
       "      <td>16</td>\n",
       "      <td>5</td>\n",
       "      <td>24.0</td>\n",
       "      <td>0.00</td>\n",
       "      <td>0</td>\n",
       "      <td>Unknown</td>\n",
       "      <td>242</td>\n",
       "      <td>63.0</td>\n",
       "    </tr>\n",
       "    <tr>\n",
       "      <th>2012-03-14</th>\n",
       "      <td>80</td>\n",
       "      <td>62</td>\n",
       "      <td>44</td>\n",
       "      <td>58</td>\n",
       "      <td>52</td>\n",
       "      <td>43</td>\n",
       "      <td>93</td>\n",
       "      <td>68</td>\n",
       "      <td>42</td>\n",
       "      <td>30.15</td>\n",
       "      <td>...</td>\n",
       "      <td>10</td>\n",
       "      <td>10</td>\n",
       "      <td>16</td>\n",
       "      <td>6</td>\n",
       "      <td>22.0</td>\n",
       "      <td>0.00</td>\n",
       "      <td>0</td>\n",
       "      <td>Unknown</td>\n",
       "      <td>202</td>\n",
       "      <td>62.0</td>\n",
       "    </tr>\n",
       "  </tbody>\n",
       "</table>\n",
       "<p>5 rows × 23 columns</p>\n",
       "</div>"
      ],
      "text/plain": [
       "            max_temp  mean_temp  min_temp  max_dew  mean_dew  min_dew  \\\n",
       "date                                                                    \n",
       "2012-03-10        56         40        24       24        20       16   \n",
       "2012-03-11        67         49        30       43        31       24   \n",
       "2012-03-12        71         62        53       59        55       43   \n",
       "2012-03-13        76         63        50       57        53       47   \n",
       "2012-03-14        80         62        44       58        52       43   \n",
       "\n",
       "            max_humidity  mean_humidity  min_humidity  max_pressure    ...     \\\n",
       "date                                                                   ...      \n",
       "2012-03-10            74             50            26         30.53    ...      \n",
       "2012-03-11            78             53            28         30.37    ...      \n",
       "2012-03-12            90             76            61         30.13    ...      \n",
       "2012-03-13            93             66            38         30.12    ...      \n",
       "2012-03-14            93             68            42         30.15    ...      \n",
       "\n",
       "            mean_visibility  min_visibility  max_wind  mean_wind  min_wind  \\\n",
       "date                                                                         \n",
       "2012-03-10               10              10        13          6      17.0   \n",
       "2012-03-11               10              10        22          7      32.0   \n",
       "2012-03-12               10               6        24         14      36.0   \n",
       "2012-03-13               10               4        16          5      24.0   \n",
       "2012-03-14               10              10        16          6      22.0   \n",
       "\n",
       "            precipitation  cloud_cover   events wind_dir  avg_temp  \n",
       "date                                                                \n",
       "2012-03-10           0.00            0  Unknown      138      40.0  \n",
       "2012-03-11              T            1     Rain      163      48.5  \n",
       "2012-03-12           0.03            6     Rain      190      62.0  \n",
       "2012-03-13           0.00            0  Unknown      242      63.0  \n",
       "2012-03-14           0.00            0  Unknown      202      62.0  \n",
       "\n",
       "[5 rows x 23 columns]"
      ]
     },
     "execution_count": 60,
     "metadata": {},
     "output_type": "execute_result"
    }
   ],
   "source": [
    "data[\"avg_temp\"] = (data.max_temp + data.min_temp)/2\n",
    "data.head()"
   ]
  },
  {
   "cell_type": "markdown",
   "metadata": {},
   "source": [
    "### Find The Count Of Number of Rainy Days"
   ]
  },
  {
   "cell_type": "code",
   "execution_count": 56,
   "metadata": {},
   "outputs": [
    {
     "data": {
      "text/plain": [
       "Unknown                       204\n",
       "Rain                           69\n",
       "Rain-Thunderstorm              26\n",
       "Snow                           13\n",
       "Fog                            13\n",
       "Fog-Rain                       11\n",
       "Thunderstorm                    9\n",
       "Fog-Rain-Thunderstorm           8\n",
       "Fog-Snow                        5\n",
       "Rain-Snow                       3\n",
       "Fog-Rain-Snow                   3\n",
       "Fog-Thunderstorm                1\n",
       "Fog-Rain-Snow-Thunderstorm      1\n",
       "Name: events, dtype: int64"
      ]
     },
     "execution_count": 56,
     "metadata": {},
     "output_type": "execute_result"
    }
   ],
   "source": [
    "data.events.value_counts()"
   ]
  },
  {
   "cell_type": "markdown",
   "metadata": {},
   "source": [
    "# Visualizing"
   ]
  },
  {
   "cell_type": "code",
   "execution_count": 69,
   "metadata": {},
   "outputs": [
    {
     "data": {
      "text/plain": [
       "<matplotlib.axes._subplots.AxesSubplot at 0x1950afb5400>"
      ]
     },
     "execution_count": 69,
     "metadata": {},
     "output_type": "execute_result"
    },
    {
     "data": {
      "image/png": "[encoded data removed]",
      "text/plain": [
       "<Figure size 432x288 with 1 Axes>"
      ]
     },
     "metadata": {},
     "output_type": "display_data"
    }
   ],
   "source": [
    "##### Quick Plots ########\n",
    "eventsSummary = data.events.value_counts()\n",
    "%matplotlib inline\n",
    "eventsSummary.plot(kind=\"bar\")"
   ]
  },
  {
   "cell_type": "markdown",
   "metadata": {},
   "source": [
    "### Plot Last Few Days"
   ]
  },
  {
   "cell_type": "code",
   "execution_count": 61,
   "metadata": {},
   "outputs": [
    {
     "data": {
      "text/plain": [
       "<matplotlib.axes._subplots.AxesSubplot at 0x1d3ab3dbf60>"
      ]
     },
     "execution_count": 61,
     "metadata": {},
     "output_type": "execute_result"
    },
    {
     "data": {
      "image/png": "[encoded data removed]",
      "text/plain": [
       "<Figure size 432x288 with 1 Axes>"
      ]
     },
     "metadata": {},
     "output_type": "display_data"
    }
   ],
   "source": [
    "#data.max_temp.plot()\n",
    "% matplotlib inline\n",
    "data.max_temp.plot()"
   ]
  },
  {
   "cell_type": "markdown",
   "metadata": {},
   "source": [
    "### With More Plotting Options"
   ]
  },
  {
   "cell_type": "code",
   "execution_count": 62,
   "metadata": {},
   "outputs": [
    {
     "data": {
      "text/plain": [
       "Text(0,0.5,'Temperature (F)')"
      ]
     },
     "execution_count": 62,
     "metadata": {},
     "output_type": "execute_result"
    },
    {
     "data": {
      "image/png": "[encoded data removed]",
      "text/plain": [
       "<Figure size 1440x720 with 1 Axes>"
      ]
     },
     "metadata": {},
     "output_type": "display_data"
    }
   ],
   "source": [
    "##### With More Plotting Options ######\n",
    "import matplotlib.pyplot as plt\n",
    "% matplotlib inline\n",
    "fig,ax = plt.subplots()\n",
    "fig.set_size_inches(20, 10)\n",
    "data.max_temp.plot(title=\"Min and Max Temperatures\")\n",
    "data.min_temp.plot(style=\"red\")\n",
    "ax.set_ylabel(\"Temperature (F)\")\n"
   ]
  },
  {
   "cell_type": "code",
   "execution_count": 63,
   "metadata": {},
   "outputs": [],
   "source": [
    "data.to_csv(\"weather_modified.csv\")"
   ]
  },
  {
   "cell_type": "code",
   "execution_count": 76,
   "metadata": {},
   "outputs": [
    {
     "data": {
      "text/plain": [
       "'iiivvviieiiii'"
      ]
     },
     "execution_count": 76,
     "metadata": {},
     "output_type": "execute_result"
    }
   ],
   "source": [
    "a = \"   vvv  ei   \"\n",
    "a.replace(\" \",\"i\")"
   ]
  },
  {
   "cell_type": "markdown",
   "metadata": {},
   "source": [
    "## Advance Plotting Library"
   ]
  },
  {
   "cell_type": "code",
   "execution_count": 56,
   "metadata": {},
   "outputs": [],
   "source": [
    "import seaborn as sns\n",
    "import numpy as np"
   ]
  },
  {
   "cell_type": "markdown",
   "metadata": {},
   "source": [
    "### Reading In Data"
   ]
  },
  {
   "cell_type": "code",
   "execution_count": 57,
   "metadata": {},
   "outputs": [],
   "source": [
    "names = ['mpg','cylinders','displacement','horsepower','weight','acceleration','model_year','origin','car_name']\n",
    "df = pandas.read_csv(\"auto-mpg.csv\",sep=\"\\s+\",names=names)"
   ]
  },
  {
   "cell_type": "markdown",
   "metadata": {},
   "source": [
    "### Data Preparation "
   ]
  },
  {
   "cell_type": "code",
   "execution_count": 58,
   "metadata": {},
   "outputs": [
    {
     "data": {
      "text/html": [
       "<div>\n",
       "<style>\n",
       "    .dataframe thead tr:only-child th {\n",
       "        text-align: right;\n",
       "    }\n",
       "\n",
       "    .dataframe thead th {\n",
       "        text-align: left;\n",
       "    }\n",
       "\n",
       "    .dataframe tbody tr th {\n",
       "        vertical-align: top;\n",
       "    }\n",
       "</style>\n",
       "<table border=\"1\" class=\"dataframe\">\n",
       "  <thead>\n",
       "    <tr style=\"text-align: right;\">\n",
       "      <th></th>\n",
       "      <th>mpg</th>\n",
       "      <th>cylinders</th>\n",
       "      <th>displacement</th>\n",
       "      <th>horsepower</th>\n",
       "      <th>weight</th>\n",
       "      <th>acceleration</th>\n",
       "      <th>model_year</th>\n",
       "      <th>origin</th>\n",
       "      <th>car_name</th>\n",
       "      <th>maker</th>\n",
       "    </tr>\n",
       "  </thead>\n",
       "  <tbody>\n",
       "    <tr>\n",
       "      <th>0</th>\n",
       "      <td>18.0</td>\n",
       "      <td>8</td>\n",
       "      <td>307.0</td>\n",
       "      <td>130.0</td>\n",
       "      <td>3504.0</td>\n",
       "      <td>12.0</td>\n",
       "      <td>70</td>\n",
       "      <td>America</td>\n",
       "      <td>chevrolet chevelle malibu</td>\n",
       "      <td>chevrolet</td>\n",
       "    </tr>\n",
       "    <tr>\n",
       "      <th>1</th>\n",
       "      <td>15.0</td>\n",
       "      <td>8</td>\n",
       "      <td>350.0</td>\n",
       "      <td>165.0</td>\n",
       "      <td>3693.0</td>\n",
       "      <td>11.5</td>\n",
       "      <td>70</td>\n",
       "      <td>America</td>\n",
       "      <td>buick skylark 320</td>\n",
       "      <td>buick</td>\n",
       "    </tr>\n",
       "    <tr>\n",
       "      <th>2</th>\n",
       "      <td>18.0</td>\n",
       "      <td>8</td>\n",
       "      <td>318.0</td>\n",
       "      <td>150.0</td>\n",
       "      <td>3436.0</td>\n",
       "      <td>11.0</td>\n",
       "      <td>70</td>\n",
       "      <td>America</td>\n",
       "      <td>plymouth satellite</td>\n",
       "      <td>plymouth</td>\n",
       "    </tr>\n",
       "    <tr>\n",
       "      <th>3</th>\n",
       "      <td>16.0</td>\n",
       "      <td>8</td>\n",
       "      <td>304.0</td>\n",
       "      <td>150.0</td>\n",
       "      <td>3433.0</td>\n",
       "      <td>12.0</td>\n",
       "      <td>70</td>\n",
       "      <td>America</td>\n",
       "      <td>amc rebel sst</td>\n",
       "      <td>amc</td>\n",
       "    </tr>\n",
       "    <tr>\n",
       "      <th>4</th>\n",
       "      <td>17.0</td>\n",
       "      <td>8</td>\n",
       "      <td>302.0</td>\n",
       "      <td>140.0</td>\n",
       "      <td>3449.0</td>\n",
       "      <td>10.5</td>\n",
       "      <td>70</td>\n",
       "      <td>America</td>\n",
       "      <td>ford torino</td>\n",
       "      <td>ford</td>\n",
       "    </tr>\n",
       "  </tbody>\n",
       "</table>\n",
       "</div>"
      ],
      "text/plain": [
       "    mpg  cylinders  displacement  horsepower  weight  acceleration  \\\n",
       "0  18.0          8         307.0       130.0  3504.0          12.0   \n",
       "1  15.0          8         350.0       165.0  3693.0          11.5   \n",
       "2  18.0          8         318.0       150.0  3436.0          11.0   \n",
       "3  16.0          8         304.0       150.0  3433.0          12.0   \n",
       "4  17.0          8         302.0       140.0  3449.0          10.5   \n",
       "\n",
       "   model_year   origin                   car_name      maker  \n",
       "0          70  America  chevrolet chevelle malibu  chevrolet  \n",
       "1          70  America          buick skylark 320      buick  \n",
       "2          70  America         plymouth satellite   plymouth  \n",
       "3          70  America              amc rebel sst        amc  \n",
       "4          70  America                ford torino       ford  "
      ]
     },
     "execution_count": 58,
     "metadata": {},
     "output_type": "execute_result"
    }
   ],
   "source": [
    "df['maker'] = df.car_name.map(lambda x: x.split()[0])\n",
    "df.origin = df.origin.map({1: 'America', 2: 'Europe', 3: 'Asia'})\n",
    "df=df.applymap(lambda x: None if x == '?' else x).dropna()\n",
    "df['horsepower'] = df.horsepower.astype(float)\n",
    "df.head()"
   ]
  },
  {
   "cell_type": "code",
   "execution_count": 59,
   "metadata": {},
   "outputs": [
    {
     "data": {
      "text/plain": [
       "<matplotlib.axes._subplots.AxesSubplot at 0x9aaea06f28>"
      ]
     },
     "execution_count": 59,
     "metadata": {},
     "output_type": "execute_result"
    },
    {
     "data": {
      "image/png": "[encoded data removed]",
      "text/plain": [
       "<matplotlib.figure.Figure at 0x9aaea0bfd0>"
      ]
     },
     "metadata": {},
     "output_type": "display_data"
    }
   ],
   "source": [
    "fig,ax = plt.subplots()\n",
    "fig.set_size_inches(20, 5)\n",
    "sns.pointplot(data=df, x=\"model_year\", y=\"mpg\",ax=ax)"
   ]
  },
  {
   "cell_type": "code",
   "execution_count": 60,
   "metadata": {},
   "outputs": [
    {
     "data": {
      "text/plain": [
       "<seaborn.axisgrid.FacetGrid at 0x9aae9fe828>"
      ]
     },
     "execution_count": 60,
     "metadata": {},
     "output_type": "execute_result"
    },
    {
     "data": {
      "image/png": "[encoded data removed]",
      "text/plain": [
       "<matplotlib.figure.Figure at 0x9aae9f52b0>"
      ]
     },
     "metadata": {},
     "output_type": "display_data"
    }
   ],
   "source": [
    "sns.factorplot(data=df, x=\"model_year\", y=\"mpg\", col=\"origin\")"
   ]
  },
  {
   "cell_type": "code",
   "execution_count": 61,
   "metadata": {},
   "outputs": [
    {
     "data": {
      "text/plain": [
       "<seaborn.axisgrid.FacetGrid at 0x9aaf865b38>"
      ]
     },
     "execution_count": 61,
     "metadata": {},
     "output_type": "execute_result"
    },
    {
     "data": {
      "image/png": "[encoded data removed]",
      "text/plain": [
       "<matplotlib.figure.Figure at 0x9aaf8657f0>"
      ]
     },
     "metadata": {},
     "output_type": "display_data"
    }
   ],
   "source": [
    "g = sns.FacetGrid(df, col=\"origin\")\n",
    "g.map(plt.scatter, \"horsepower\", \"mpg\")"
   ]
  },
  {
   "cell_type": "code",
   "execution_count": 62,
   "metadata": {},
   "outputs": [
    {
     "data": {
      "image/png": "[encoded data removed]",
      "text/plain": [
       "<matplotlib.figure.Figure at 0x9aaf782d68>"
      ]
     },
     "metadata": {},
     "output_type": "display_data"
    }
   ],
   "source": [
    "g = sns.pairplot(df[[\"mpg\", \"horsepower\", \"weight\", \"origin\"]], hue=\"origin\", diag_kind=\"hist\")\n",
    "for ax in g.axes.flat:\n",
    "   plt.setp(ax.get_xticklabels(), rotation=45)"
   ]
  },
  {
   "cell_type": "code",
   "execution_count": 63,
   "metadata": {},
   "outputs": [
    {
     "data": {
      "text/plain": [
       "<seaborn.axisgrid.JointGrid at 0x9aaf8936d8>"
      ]
     },
     "execution_count": 63,
     "metadata": {},
     "output_type": "execute_result"
    },
    {
     "data": {
      "image/png": "[encoded data removed]",
      "text/plain": [
       "<matplotlib.figure.Figure at 0x9aaf8937b8>"
      ]
     },
     "metadata": {},
     "output_type": "display_data"
    }
   ],
   "source": [
    "sns.jointplot(\"horsepower\", \"mpg\", data=df, kind=\"reg\")"
   ]
  },
  {
   "cell_type": "code",
   "execution_count": null,
   "metadata": {},
   "outputs": [],
   "source": []
  }
 ],
 "metadata": {
  "anaconda-cloud": {},
  "kernelspec": {
   "display_name": "Python 3",
   "language": "python",
   "name": "python3"
  },
  "language_info": {
   "codemirror_mode": {
    "name": "ipython",
    "version": 3
   },
   "file_extension": ".py",
   "mimetype": "text/x-python",
   "name": "python",
   "nbconvert_exporter": "python",
   "pygments_lexer": "ipython3",
   "version": "3.7.3"
  }
 },
 "nbformat": 4,
 "nbformat_minor": 1
}
